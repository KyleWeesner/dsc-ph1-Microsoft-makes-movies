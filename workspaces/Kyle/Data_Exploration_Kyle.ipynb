{
 "cells": [
  {
   "cell_type": "markdown",
   "metadata": {},
   "source": [
    "# Phase 1 Project"
   ]
  },
  {
   "cell_type": "markdown",
   "metadata": {},
   "source": [
    "## Importing Libraries"
   ]
  },
  {
   "cell_type": "code",
   "execution_count": 6,
   "metadata": {},
   "outputs": [],
   "source": [
    "import pandas as pd\n",
    "import numpy as np\n",
    "import sqlite3\n",
    "import matplotlib.pyplot as plt\n",
    "%matplotlib inline\n",
    "import datetime"
   ]
  },
  {
   "cell_type": "markdown",
   "metadata": {},
   "source": [
    "## Importing Files"
   ]
  },
  {
   "cell_type": "markdown",
   "metadata": {},
   "source": [
    "### Importing Box Office Mojo Movie  Gross"
   ]
  },
  {
   "cell_type": "code",
   "execution_count": 7,
   "metadata": {},
   "outputs": [
    {
     "data": {
      "text/html": [
       "<div>\n",
       "<style scoped>\n",
       "    .dataframe tbody tr th:only-of-type {\n",
       "        vertical-align: middle;\n",
       "    }\n",
       "\n",
       "    .dataframe tbody tr th {\n",
       "        vertical-align: top;\n",
       "    }\n",
       "\n",
       "    .dataframe thead th {\n",
       "        text-align: right;\n",
       "    }\n",
       "</style>\n",
       "<table border=\"1\" class=\"dataframe\">\n",
       "  <thead>\n",
       "    <tr style=\"text-align: right;\">\n",
       "      <th></th>\n",
       "      <th>title</th>\n",
       "      <th>studio</th>\n",
       "      <th>domestic_gross</th>\n",
       "      <th>foreign_gross</th>\n",
       "      <th>year</th>\n",
       "    </tr>\n",
       "  </thead>\n",
       "  <tbody>\n",
       "    <tr>\n",
       "      <th>0</th>\n",
       "      <td>Toy Story 3</td>\n",
       "      <td>BV</td>\n",
       "      <td>415000000.0</td>\n",
       "      <td>652000000</td>\n",
       "      <td>2010</td>\n",
       "    </tr>\n",
       "  </tbody>\n",
       "</table>\n",
       "</div>"
      ],
      "text/plain": [
       "         title studio  domestic_gross foreign_gross  year\n",
       "0  Toy Story 3     BV     415000000.0     652000000  2010"
      ]
     },
     "execution_count": 7,
     "metadata": {},
     "output_type": "execute_result"
    }
   ],
   "source": [
    "BOM_df = pd.read_csv('../../data/bom.movie_gross.csv.gz')\n",
    "BOM_df.head(1)"
   ]
  },
  {
   "cell_type": "markdown",
   "metadata": {},
   "source": [
    "### Importing TheMovieDB (I look Over)"
   ]
  },
  {
   "cell_type": "code",
   "execution_count": 8,
   "metadata": {
    "scrolled": true
   },
   "outputs": [],
   "source": [
    "tmdb_df = pd.read_csv('../../data/tmdb.movies.csv.gz', index_col = 0)"
   ]
  },
  {
   "cell_type": "code",
   "execution_count": 9,
   "metadata": {
    "scrolled": true
   },
   "outputs": [
    {
     "data": {
      "text/html": [
       "<div>\n",
       "<style scoped>\n",
       "    .dataframe tbody tr th:only-of-type {\n",
       "        vertical-align: middle;\n",
       "    }\n",
       "\n",
       "    .dataframe tbody tr th {\n",
       "        vertical-align: top;\n",
       "    }\n",
       "\n",
       "    .dataframe thead th {\n",
       "        text-align: right;\n",
       "    }\n",
       "</style>\n",
       "<table border=\"1\" class=\"dataframe\">\n",
       "  <thead>\n",
       "    <tr style=\"text-align: right;\">\n",
       "      <th></th>\n",
       "      <th>genre_ids</th>\n",
       "      <th>id</th>\n",
       "      <th>original_language</th>\n",
       "      <th>original_title</th>\n",
       "      <th>popularity</th>\n",
       "      <th>release_date</th>\n",
       "      <th>title</th>\n",
       "      <th>vote_average</th>\n",
       "      <th>vote_count</th>\n",
       "    </tr>\n",
       "  </thead>\n",
       "  <tbody>\n",
       "    <tr>\n",
       "      <th>0</th>\n",
       "      <td>[12, 14, 10751]</td>\n",
       "      <td>12444</td>\n",
       "      <td>en</td>\n",
       "      <td>Harry Potter and the Deathly Hallows: Part 1</td>\n",
       "      <td>33.533</td>\n",
       "      <td>2010-11-19</td>\n",
       "      <td>Harry Potter and the Deathly Hallows: Part 1</td>\n",
       "      <td>7.7</td>\n",
       "      <td>10788</td>\n",
       "    </tr>\n",
       "  </tbody>\n",
       "</table>\n",
       "</div>"
      ],
      "text/plain": [
       "         genre_ids     id original_language  \\\n",
       "0  [12, 14, 10751]  12444                en   \n",
       "\n",
       "                                 original_title  popularity release_date  \\\n",
       "0  Harry Potter and the Deathly Hallows: Part 1      33.533   2010-11-19   \n",
       "\n",
       "                                          title  vote_average  vote_count  \n",
       "0  Harry Potter and the Deathly Hallows: Part 1           7.7       10788  "
      ]
     },
     "execution_count": 9,
     "metadata": {},
     "output_type": "execute_result"
    }
   ],
   "source": [
    "tmdb_df.head(1)"
   ]
  },
  {
   "cell_type": "markdown",
   "metadata": {},
   "source": [
    "Analyzing TheMovieDB to determine if we as a group want to use the data frame.\n",
    "Conclusion: Do not want to do furter analysis or use data in project."
   ]
  },
  {
   "cell_type": "code",
   "execution_count": 10,
   "metadata": {
    "scrolled": false
   },
   "outputs": [
    {
     "name": "stdout",
     "output_type": "stream",
     "text": [
      "<class 'pandas.core.frame.DataFrame'>\n",
      "Int64Index: 26517 entries, 0 to 26516\n",
      "Data columns (total 9 columns):\n",
      " #   Column             Non-Null Count  Dtype  \n",
      "---  ------             --------------  -----  \n",
      " 0   genre_ids          26517 non-null  object \n",
      " 1   id                 26517 non-null  int64  \n",
      " 2   original_language  26517 non-null  object \n",
      " 3   original_title     26517 non-null  object \n",
      " 4   popularity         26517 non-null  float64\n",
      " 5   release_date       26517 non-null  object \n",
      " 6   title              26517 non-null  object \n",
      " 7   vote_average       26517 non-null  float64\n",
      " 8   vote_count         26517 non-null  int64  \n",
      "dtypes: float64(2), int64(2), object(5)\n",
      "memory usage: 2.0+ MB\n"
     ]
    }
   ],
   "source": [
    "tmdb_df.info()"
   ]
  },
  {
   "cell_type": "code",
   "execution_count": 11,
   "metadata": {},
   "outputs": [
    {
     "data": {
      "text/html": [
       "<div>\n",
       "<style scoped>\n",
       "    .dataframe tbody tr th:only-of-type {\n",
       "        vertical-align: middle;\n",
       "    }\n",
       "\n",
       "    .dataframe tbody tr th {\n",
       "        vertical-align: top;\n",
       "    }\n",
       "\n",
       "    .dataframe thead th {\n",
       "        text-align: right;\n",
       "    }\n",
       "</style>\n",
       "<table border=\"1\" class=\"dataframe\">\n",
       "  <thead>\n",
       "    <tr style=\"text-align: right;\">\n",
       "      <th></th>\n",
       "      <th>id</th>\n",
       "      <th>popularity</th>\n",
       "      <th>vote_average</th>\n",
       "      <th>vote_count</th>\n",
       "    </tr>\n",
       "  </thead>\n",
       "  <tbody>\n",
       "    <tr>\n",
       "      <th>count</th>\n",
       "      <td>26517.000000</td>\n",
       "      <td>26517.000000</td>\n",
       "      <td>26517.000000</td>\n",
       "      <td>26517.000000</td>\n",
       "    </tr>\n",
       "    <tr>\n",
       "      <th>mean</th>\n",
       "      <td>295050.153260</td>\n",
       "      <td>3.130912</td>\n",
       "      <td>5.991281</td>\n",
       "      <td>194.224837</td>\n",
       "    </tr>\n",
       "    <tr>\n",
       "      <th>std</th>\n",
       "      <td>153661.615648</td>\n",
       "      <td>4.355229</td>\n",
       "      <td>1.852946</td>\n",
       "      <td>960.961095</td>\n",
       "    </tr>\n",
       "    <tr>\n",
       "      <th>min</th>\n",
       "      <td>27.000000</td>\n",
       "      <td>0.600000</td>\n",
       "      <td>0.000000</td>\n",
       "      <td>1.000000</td>\n",
       "    </tr>\n",
       "    <tr>\n",
       "      <th>25%</th>\n",
       "      <td>157851.000000</td>\n",
       "      <td>0.600000</td>\n",
       "      <td>5.000000</td>\n",
       "      <td>2.000000</td>\n",
       "    </tr>\n",
       "    <tr>\n",
       "      <th>50%</th>\n",
       "      <td>309581.000000</td>\n",
       "      <td>1.374000</td>\n",
       "      <td>6.000000</td>\n",
       "      <td>5.000000</td>\n",
       "    </tr>\n",
       "    <tr>\n",
       "      <th>75%</th>\n",
       "      <td>419542.000000</td>\n",
       "      <td>3.694000</td>\n",
       "      <td>7.000000</td>\n",
       "      <td>28.000000</td>\n",
       "    </tr>\n",
       "    <tr>\n",
       "      <th>max</th>\n",
       "      <td>608444.000000</td>\n",
       "      <td>80.773000</td>\n",
       "      <td>10.000000</td>\n",
       "      <td>22186.000000</td>\n",
       "    </tr>\n",
       "  </tbody>\n",
       "</table>\n",
       "</div>"
      ],
      "text/plain": [
       "                  id    popularity  vote_average    vote_count\n",
       "count   26517.000000  26517.000000  26517.000000  26517.000000\n",
       "mean   295050.153260      3.130912      5.991281    194.224837\n",
       "std    153661.615648      4.355229      1.852946    960.961095\n",
       "min        27.000000      0.600000      0.000000      1.000000\n",
       "25%    157851.000000      0.600000      5.000000      2.000000\n",
       "50%    309581.000000      1.374000      6.000000      5.000000\n",
       "75%    419542.000000      3.694000      7.000000     28.000000\n",
       "max    608444.000000     80.773000     10.000000  22186.000000"
      ]
     },
     "execution_count": 11,
     "metadata": {},
     "output_type": "execute_result"
    }
   ],
   "source": [
    "tmdb_df.describe()"
   ]
  },
  {
   "cell_type": "code",
   "execution_count": 12,
   "metadata": {
    "scrolled": true
   },
   "outputs": [
    {
     "data": {
      "text/html": [
       "<div>\n",
       "<style scoped>\n",
       "    .dataframe tbody tr th:only-of-type {\n",
       "        vertical-align: middle;\n",
       "    }\n",
       "\n",
       "    .dataframe tbody tr th {\n",
       "        vertical-align: top;\n",
       "    }\n",
       "\n",
       "    .dataframe thead th {\n",
       "        text-align: right;\n",
       "    }\n",
       "</style>\n",
       "<table border=\"1\" class=\"dataframe\">\n",
       "  <thead>\n",
       "    <tr style=\"text-align: right;\">\n",
       "      <th></th>\n",
       "      <th>genre_ids</th>\n",
       "      <th>id</th>\n",
       "      <th>original_language</th>\n",
       "      <th>original_title</th>\n",
       "      <th>popularity</th>\n",
       "      <th>release_date</th>\n",
       "      <th>title</th>\n",
       "      <th>vote_average</th>\n",
       "      <th>vote_count</th>\n",
       "    </tr>\n",
       "  </thead>\n",
       "  <tbody>\n",
       "    <tr>\n",
       "      <th>258</th>\n",
       "      <td>[18, 35]</td>\n",
       "      <td>39356</td>\n",
       "      <td>en</td>\n",
       "      <td>Boy</td>\n",
       "      <td>7.759</td>\n",
       "      <td>2012-03-02</td>\n",
       "      <td>Boy</td>\n",
       "      <td>7.5</td>\n",
       "      <td>149</td>\n",
       "    </tr>\n",
       "    <tr>\n",
       "      <th>530</th>\n",
       "      <td>[18, 53]</td>\n",
       "      <td>55061</td>\n",
       "      <td>en</td>\n",
       "      <td>Frankie &amp; Alice</td>\n",
       "      <td>3.690</td>\n",
       "      <td>2014-04-04</td>\n",
       "      <td>Frankie &amp; Alice</td>\n",
       "      <td>5.7</td>\n",
       "      <td>43</td>\n",
       "    </tr>\n",
       "    <tr>\n",
       "      <th>587</th>\n",
       "      <td>[18, 14]</td>\n",
       "      <td>61980</td>\n",
       "      <td>en</td>\n",
       "      <td>Seeing Heaven</td>\n",
       "      <td>3.209</td>\n",
       "      <td>2012-07-16</td>\n",
       "      <td>Seeing Heaven</td>\n",
       "      <td>3.7</td>\n",
       "      <td>9</td>\n",
       "    </tr>\n",
       "    <tr>\n",
       "      <th>1110</th>\n",
       "      <td>[18, 35, 14, 10749]</td>\n",
       "      <td>96316</td>\n",
       "      <td>en</td>\n",
       "      <td>I Kissed a Vampire</td>\n",
       "      <td>1.400</td>\n",
       "      <td>2012-03-30</td>\n",
       "      <td>I Kissed a Vampire</td>\n",
       "      <td>5.3</td>\n",
       "      <td>6</td>\n",
       "    </tr>\n",
       "    <tr>\n",
       "      <th>1537</th>\n",
       "      <td>[18]</td>\n",
       "      <td>182026</td>\n",
       "      <td>en</td>\n",
       "      <td>Stranger Things</td>\n",
       "      <td>0.802</td>\n",
       "      <td>2013-04-05</td>\n",
       "      <td>Stranger Things</td>\n",
       "      <td>8.0</td>\n",
       "      <td>14</td>\n",
       "    </tr>\n",
       "  </tbody>\n",
       "</table>\n",
       "</div>"
      ],
      "text/plain": [
       "                genre_ids      id original_language      original_title  \\\n",
       "258              [18, 35]   39356                en                 Boy   \n",
       "530              [18, 53]   55061                en     Frankie & Alice   \n",
       "587              [18, 14]   61980                en       Seeing Heaven   \n",
       "1110  [18, 35, 14, 10749]   96316                en  I Kissed a Vampire   \n",
       "1537                 [18]  182026                en     Stranger Things   \n",
       "\n",
       "      popularity release_date               title  vote_average  vote_count  \n",
       "258        7.759   2012-03-02                 Boy           7.5         149  \n",
       "530        3.690   2014-04-04     Frankie & Alice           5.7          43  \n",
       "587        3.209   2012-07-16       Seeing Heaven           3.7           9  \n",
       "1110       1.400   2012-03-30  I Kissed a Vampire           5.3           6  \n",
       "1537       0.802   2013-04-05     Stranger Things           8.0          14  "
      ]
     },
     "execution_count": 12,
     "metadata": {},
     "output_type": "execute_result"
    }
   ],
   "source": [
    "#Filtered data fram to contain values only containing movies released in the past decade\n",
    "past_decade_df = tmdb_df.loc[(tmdb_df['release_date'] >= '2012-01-01')]\n",
    "past_decade_df.head()"
   ]
  },
  {
   "cell_type": "code",
   "execution_count": 13,
   "metadata": {},
   "outputs": [
    {
     "data": {
      "text/plain": [
       "en    18771\n",
       "fr      370\n",
       "es      361\n",
       "ja      211\n",
       "ru      208\n",
       "      ...  \n",
       "cy        1\n",
       "cr        1\n",
       "xh        1\n",
       "af        1\n",
       "sw        1\n",
       "Name: original_language, Length: 71, dtype: int64"
      ]
     },
     "execution_count": 13,
     "metadata": {},
     "output_type": "execute_result"
    }
   ],
   "source": [
    "past_decade_df['original_language'].value_counts()"
   ]
  },
  {
   "cell_type": "code",
   "execution_count": 14,
   "metadata": {
    "scrolled": true
   },
   "outputs": [
    {
     "data": {
      "text/plain": [
       "17383    20175\n",
       "5179     19673\n",
       "11032    18597\n",
       "11021    17958\n",
       "5189     15725\n",
       "         ...  \n",
       "16030        1\n",
       "16032        1\n",
       "16034        1\n",
       "16035        1\n",
       "15858        1\n",
       "Name: vote_count, Length: 21189, dtype: int64"
      ]
     },
     "execution_count": 14,
     "metadata": {},
     "output_type": "execute_result"
    }
   ],
   "source": [
    "past_decade_df['vote_count'].sort_values(ascending=False)"
   ]
  },
  {
   "cell_type": "code",
   "execution_count": 15,
   "metadata": {},
   "outputs": [
    {
     "name": "stdout",
     "output_type": "stream",
     "text": [
      "<class 'pandas.core.frame.DataFrame'>\n",
      "Int64Index: 21189 entries, 258 to 26516\n",
      "Data columns (total 9 columns):\n",
      " #   Column             Non-Null Count  Dtype  \n",
      "---  ------             --------------  -----  \n",
      " 0   genre_ids          21189 non-null  object \n",
      " 1   id                 21189 non-null  int64  \n",
      " 2   original_language  21189 non-null  object \n",
      " 3   original_title     21189 non-null  object \n",
      " 4   popularity         21189 non-null  float64\n",
      " 5   release_date       21189 non-null  object \n",
      " 6   title              21189 non-null  object \n",
      " 7   vote_average       21189 non-null  float64\n",
      " 8   vote_count         21189 non-null  int64  \n",
      "dtypes: float64(2), int64(2), object(5)\n",
      "memory usage: 1.6+ MB\n"
     ]
    }
   ],
   "source": [
    "past_decade_df.info()"
   ]
  },
  {
   "cell_type": "code",
   "execution_count": 16,
   "metadata": {
    "scrolled": true
   },
   "outputs": [
    {
     "data": {
      "text/plain": [
       "23811    80.773\n",
       "11019    78.123\n",
       "23812    60.534\n",
       "11020    53.783\n",
       "5179     50.289\n",
       "          ...  \n",
       "13358     0.600\n",
       "13357     0.600\n",
       "13356     0.600\n",
       "13355     0.600\n",
       "26516     0.600\n",
       "Name: popularity, Length: 21189, dtype: float64"
      ]
     },
     "execution_count": 16,
     "metadata": {},
     "output_type": "execute_result"
    }
   ],
   "source": [
    "past_decade = past_decade_df['popularity'].sort_values(ascending=False)\n",
    "past_decade"
   ]
  },
  {
   "cell_type": "code",
   "execution_count": 17,
   "metadata": {
    "scrolled": true
   },
   "outputs": [
    {
     "data": {
      "text/plain": [
       "0.600     5569\n",
       "1.400      493\n",
       "0.840      473\n",
       "0.626       67\n",
       "0.631       61\n",
       "          ... \n",
       "18.335       1\n",
       "13.344       1\n",
       "14.991       1\n",
       "4.980        1\n",
       "7.525        1\n",
       "Name: popularity, Length: 6561, dtype: int64"
      ]
     },
     "execution_count": 17,
     "metadata": {},
     "output_type": "execute_result"
    }
   ],
   "source": [
    "past_decade.value_counts()"
   ]
  },
  {
   "cell_type": "code",
   "execution_count": 18,
   "metadata": {
    "scrolled": false
   },
   "outputs": [
    {
     "data": {
      "image/png": "[encoded data removed]",
      "text/plain": [
       "<Figure size 432x288 with 1 Axes>"
      ]
     },
     "metadata": {
      "needs_background": "light"
     },
     "output_type": "display_data"
    }
   ],
   "source": [
    "fig, ax=plt.subplots()\n",
    "ax.hist(x=past_decade, bins=100);"
   ]
  },
  {
   "cell_type": "code",
   "execution_count": 19,
   "metadata": {},
   "outputs": [
    {
     "data": {
      "text/plain": [
       "6558"
      ]
     },
     "execution_count": 19,
     "metadata": {},
     "output_type": "execute_result"
    }
   ],
   "source": [
    "past_decade_no_lows = []\n",
    "for value  in past_decade.value_counts():\n",
    "    if value <70:\n",
    "        past_decade_no_lows.append(value)\n",
    "    else:\n",
    "        continue\n",
    "len(past_decade_no_lows)"
   ]
  },
  {
   "cell_type": "code",
   "execution_count": 20,
   "metadata": {},
   "outputs": [
    {
     "data": {
      "image/png": "[encoded data removed]",
      "text/plain": [
       "<Figure size 432x288 with 1 Axes>"
      ]
     },
     "metadata": {
      "needs_background": "light"
     },
     "output_type": "display_data"
    }
   ],
   "source": [
    "fig, ax=plt.subplots()\n",
    "ax.hist(x=past_decade_no_lows, bins=100);"
   ]
  },
  {
   "cell_type": "code",
   "execution_count": 21,
   "metadata": {},
   "outputs": [
    {
     "data": {
      "text/plain": [
       "0.600     5569\n",
       "1.400      493\n",
       "0.840      473\n",
       "0.626       67\n",
       "0.631       61\n",
       "          ... \n",
       "18.335       1\n",
       "13.344       1\n",
       "14.991       1\n",
       "4.980        1\n",
       "7.525        1\n",
       "Name: popularity, Length: 6561, dtype: int64"
      ]
     },
     "execution_count": 21,
     "metadata": {},
     "output_type": "execute_result"
    }
   ],
   "source": [
    "past_decade.value_counts()"
   ]
  },
  {
   "cell_type": "code",
   "execution_count": 22,
   "metadata": {},
   "outputs": [
    {
     "data": {
      "image/png": "[encoded data removed]",
      "text/plain": [
       "<Figure size 432x288 with 1 Axes>"
      ]
     },
     "metadata": {
      "needs_background": "light"
     },
     "output_type": "display_data"
    }
   ],
   "source": [
    "fig, ax=plt.subplots()\n",
    "ax.hist(x=past_decade_df['vote_count'], bins=50);"
   ]
  },
  {
   "cell_type": "code",
   "execution_count": 23,
   "metadata": {},
   "outputs": [
    {
     "data": {
      "image/png": "[encoded data removed]",
      "text/plain": [
       "<Figure size 432x288 with 1 Axes>"
      ]
     },
     "metadata": {
      "needs_background": "light"
     },
     "output_type": "display_data"
    }
   ],
   "source": [
    "fig, ax=plt.subplots()\n",
    "ax.hist(x=past_decade_df['popularity'], bins=50);"
   ]
  },
  {
   "cell_type": "markdown",
   "metadata": {},
   "source": [
    "### Importing TheNumbers"
   ]
  },
  {
   "cell_type": "code",
   "execution_count": 24,
   "metadata": {},
   "outputs": [
    {
     "data": {
      "text/html": [
       "<div>\n",
       "<style scoped>\n",
       "    .dataframe tbody tr th:only-of-type {\n",
       "        vertical-align: middle;\n",
       "    }\n",
       "\n",
       "    .dataframe tbody tr th {\n",
       "        vertical-align: top;\n",
       "    }\n",
       "\n",
       "    .dataframe thead th {\n",
       "        text-align: right;\n",
       "    }\n",
       "</style>\n",
       "<table border=\"1\" class=\"dataframe\">\n",
       "  <thead>\n",
       "    <tr style=\"text-align: right;\">\n",
       "      <th></th>\n",
       "      <th>id</th>\n",
       "      <th>release_date</th>\n",
       "      <th>movie</th>\n",
       "      <th>production_budget</th>\n",
       "      <th>domestic_gross</th>\n",
       "      <th>worldwide_gross</th>\n",
       "    </tr>\n",
       "  </thead>\n",
       "  <tbody>\n",
       "    <tr>\n",
       "      <th>0</th>\n",
       "      <td>1</td>\n",
       "      <td>Dec 18, 2009</td>\n",
       "      <td>Avatar</td>\n",
       "      <td>$425,000,000</td>\n",
       "      <td>$760,507,625</td>\n",
       "      <td>$2,776,345,279</td>\n",
       "    </tr>\n",
       "  </tbody>\n",
       "</table>\n",
       "</div>"
      ],
      "text/plain": [
       "   id  release_date   movie production_budget domestic_gross worldwide_gross\n",
       "0   1  Dec 18, 2009  Avatar      $425,000,000   $760,507,625  $2,776,345,279"
      ]
     },
     "execution_count": 24,
     "metadata": {},
     "output_type": "execute_result"
    }
   ],
   "source": [
    "df_th = pd.read_csv('../../data/tn.movie_budgets.csv.gz')\n",
    "df_th.head(1)"
   ]
  },
  {
   "cell_type": "code",
   "execution_count": 25,
   "metadata": {},
   "outputs": [
    {
     "name": "stdout",
     "output_type": "stream",
     "text": [
      "<class 'pandas.core.frame.DataFrame'>\n",
      "RangeIndex: 5782 entries, 0 to 5781\n",
      "Data columns (total 6 columns):\n",
      " #   Column             Non-Null Count  Dtype \n",
      "---  ------             --------------  ----- \n",
      " 0   id                 5782 non-null   int64 \n",
      " 1   release_date       5782 non-null   object\n",
      " 2   movie              5782 non-null   object\n",
      " 3   production_budget  5782 non-null   object\n",
      " 4   domestic_gross     5782 non-null   object\n",
      " 5   worldwide_gross    5782 non-null   object\n",
      "dtypes: int64(1), object(5)\n",
      "memory usage: 271.2+ KB\n"
     ]
    }
   ],
   "source": [
    "df_th.info()"
   ]
  },
  {
   "cell_type": "markdown",
   "metadata": {},
   "source": [
    "# Exploring what types of films are currently doing the best at the box office"
   ]
  },
  {
   "cell_type": "markdown",
   "metadata": {},
   "source": [
    "I started looking at information within this data base before consulting with team.  \n",
    "We decided not to use this data set for our project.  "
   ]
  },
  {
   "cell_type": "code",
   "execution_count": 26,
   "metadata": {
    "scrolled": true
   },
   "outputs": [
    {
     "data": {
      "text/html": [
       "<div>\n",
       "<style scoped>\n",
       "    .dataframe tbody tr th:only-of-type {\n",
       "        vertical-align: middle;\n",
       "    }\n",
       "\n",
       "    .dataframe tbody tr th {\n",
       "        vertical-align: top;\n",
       "    }\n",
       "\n",
       "    .dataframe thead th {\n",
       "        text-align: right;\n",
       "    }\n",
       "</style>\n",
       "<table border=\"1\" class=\"dataframe\">\n",
       "  <thead>\n",
       "    <tr style=\"text-align: right;\">\n",
       "      <th></th>\n",
       "      <th>title</th>\n",
       "      <th>studio</th>\n",
       "      <th>domestic_gross</th>\n",
       "      <th>foreign_gross</th>\n",
       "      <th>year</th>\n",
       "    </tr>\n",
       "  </thead>\n",
       "  <tbody>\n",
       "    <tr>\n",
       "      <th>0</th>\n",
       "      <td>Toy Story 3</td>\n",
       "      <td>BV</td>\n",
       "      <td>415000000.0</td>\n",
       "      <td>652000000</td>\n",
       "      <td>2010</td>\n",
       "    </tr>\n",
       "    <tr>\n",
       "      <th>1</th>\n",
       "      <td>Alice in Wonderland (2010)</td>\n",
       "      <td>BV</td>\n",
       "      <td>334200000.0</td>\n",
       "      <td>691300000</td>\n",
       "      <td>2010</td>\n",
       "    </tr>\n",
       "    <tr>\n",
       "      <th>2</th>\n",
       "      <td>Harry Potter and the Deathly Hallows Part 1</td>\n",
       "      <td>WB</td>\n",
       "      <td>296000000.0</td>\n",
       "      <td>664300000</td>\n",
       "      <td>2010</td>\n",
       "    </tr>\n",
       "    <tr>\n",
       "      <th>3</th>\n",
       "      <td>Inception</td>\n",
       "      <td>WB</td>\n",
       "      <td>292600000.0</td>\n",
       "      <td>535700000</td>\n",
       "      <td>2010</td>\n",
       "    </tr>\n",
       "    <tr>\n",
       "      <th>4</th>\n",
       "      <td>Shrek Forever After</td>\n",
       "      <td>P/DW</td>\n",
       "      <td>238700000.0</td>\n",
       "      <td>513900000</td>\n",
       "      <td>2010</td>\n",
       "    </tr>\n",
       "  </tbody>\n",
       "</table>\n",
       "</div>"
      ],
      "text/plain": [
       "                                         title studio  domestic_gross  \\\n",
       "0                                  Toy Story 3     BV     415000000.0   \n",
       "1                   Alice in Wonderland (2010)     BV     334200000.0   \n",
       "2  Harry Potter and the Deathly Hallows Part 1     WB     296000000.0   \n",
       "3                                    Inception     WB     292600000.0   \n",
       "4                          Shrek Forever After   P/DW     238700000.0   \n",
       "\n",
       "  foreign_gross  year  \n",
       "0     652000000  2010  \n",
       "1     691300000  2010  \n",
       "2     664300000  2010  \n",
       "3     535700000  2010  \n",
       "4     513900000  2010  "
      ]
     },
     "execution_count": 26,
     "metadata": {},
     "output_type": "execute_result"
    }
   ],
   "source": [
    "BOM_df.head()"
   ]
  },
  {
   "cell_type": "code",
   "execution_count": 27,
   "metadata": {},
   "outputs": [
    {
     "name": "stdout",
     "output_type": "stream",
     "text": [
      "<class 'pandas.core.frame.DataFrame'>\n",
      "RangeIndex: 3387 entries, 0 to 3386\n",
      "Data columns (total 5 columns):\n",
      " #   Column          Non-Null Count  Dtype  \n",
      "---  ------          --------------  -----  \n",
      " 0   title           3387 non-null   object \n",
      " 1   studio          3382 non-null   object \n",
      " 2   domestic_gross  3359 non-null   float64\n",
      " 3   foreign_gross   2037 non-null   object \n",
      " 4   year            3387 non-null   int64  \n",
      "dtypes: float64(1), int64(1), object(3)\n",
      "memory usage: 132.4+ KB\n"
     ]
    }
   ],
   "source": [
    "BOM_df.info()"
   ]
  },
  {
   "cell_type": "code",
   "execution_count": 28,
   "metadata": {},
   "outputs": [
    {
     "data": {
      "text/plain": [
       "array([4.150e+08, 3.342e+08, 2.960e+08, ..., 2.500e+03, 2.400e+03,\n",
       "       1.700e+03])"
      ]
     },
     "execution_count": 28,
     "metadata": {},
     "output_type": "execute_result"
    }
   ],
   "source": [
    "BOM_df['domestic_gross'].values"
   ]
  },
  {
   "cell_type": "code",
   "execution_count": 29,
   "metadata": {},
   "outputs": [
    {
     "data": {
      "text/plain": [
       "title                0\n",
       "studio               5\n",
       "domestic_gross      28\n",
       "foreign_gross     1350\n",
       "year                 0\n",
       "dtype: int64"
      ]
     },
     "execution_count": 29,
     "metadata": {},
     "output_type": "execute_result"
    }
   ],
   "source": [
    "BOM_df.isna().sum()"
   ]
  },
  {
   "cell_type": "code",
   "execution_count": 30,
   "metadata": {},
   "outputs": [
    {
     "data": {
      "text/html": [
       "<div>\n",
       "<style scoped>\n",
       "    .dataframe tbody tr th:only-of-type {\n",
       "        vertical-align: middle;\n",
       "    }\n",
       "\n",
       "    .dataframe tbody tr th {\n",
       "        vertical-align: top;\n",
       "    }\n",
       "\n",
       "    .dataframe thead th {\n",
       "        text-align: right;\n",
       "    }\n",
       "</style>\n",
       "<table border=\"1\" class=\"dataframe\">\n",
       "  <thead>\n",
       "    <tr style=\"text-align: right;\">\n",
       "      <th></th>\n",
       "      <th>title</th>\n",
       "      <th>studio</th>\n",
       "      <th>domestic_gross</th>\n",
       "      <th>foreign_gross</th>\n",
       "      <th>year</th>\n",
       "    </tr>\n",
       "  </thead>\n",
       "  <tbody>\n",
       "    <tr>\n",
       "      <th>230</th>\n",
       "      <td>It's a Wonderful Afterlife</td>\n",
       "      <td>UTV</td>\n",
       "      <td>NaN</td>\n",
       "      <td>1300000</td>\n",
       "      <td>2010</td>\n",
       "    </tr>\n",
       "    <tr>\n",
       "      <th>298</th>\n",
       "      <td>Celine: Through the Eyes of the World</td>\n",
       "      <td>Sony</td>\n",
       "      <td>NaN</td>\n",
       "      <td>119000</td>\n",
       "      <td>2010</td>\n",
       "    </tr>\n",
       "    <tr>\n",
       "      <th>302</th>\n",
       "      <td>White Lion</td>\n",
       "      <td>Scre.</td>\n",
       "      <td>NaN</td>\n",
       "      <td>99600</td>\n",
       "      <td>2010</td>\n",
       "    </tr>\n",
       "    <tr>\n",
       "      <th>306</th>\n",
       "      <td>Badmaash Company</td>\n",
       "      <td>Yash</td>\n",
       "      <td>NaN</td>\n",
       "      <td>64400</td>\n",
       "      <td>2010</td>\n",
       "    </tr>\n",
       "    <tr>\n",
       "      <th>327</th>\n",
       "      <td>Aashayein (Wishes)</td>\n",
       "      <td>Relbig.</td>\n",
       "      <td>NaN</td>\n",
       "      <td>3800</td>\n",
       "      <td>2010</td>\n",
       "    </tr>\n",
       "  </tbody>\n",
       "</table>\n",
       "</div>"
      ],
      "text/plain": [
       "                                     title   studio  domestic_gross  \\\n",
       "230             It's a Wonderful Afterlife      UTV             NaN   \n",
       "298  Celine: Through the Eyes of the World     Sony             NaN   \n",
       "302                             White Lion    Scre.             NaN   \n",
       "306                       Badmaash Company     Yash             NaN   \n",
       "327                     Aashayein (Wishes)  Relbig.             NaN   \n",
       "\n",
       "    foreign_gross  year  \n",
       "230       1300000  2010  \n",
       "298        119000  2010  \n",
       "302         99600  2010  \n",
       "306         64400  2010  \n",
       "327          3800  2010  "
      ]
     },
     "execution_count": 30,
     "metadata": {},
     "output_type": "execute_result"
    }
   ],
   "source": [
    "BOM_df[BOM_df['domestic_gross'].isna() == True].head()"
   ]
  },
  {
   "cell_type": "code",
   "execution_count": 31,
   "metadata": {
    "scrolled": true
   },
   "outputs": [],
   "source": [
    "BOM_nona_domestic = BOM_df.dropna(subset = ['domestic_gross'])"
   ]
  },
  {
   "cell_type": "code",
   "execution_count": 32,
   "metadata": {},
   "outputs": [
    {
     "data": {
      "text/plain": [
       "1872    936700000.0\n",
       "3080    700100000.0\n",
       "3079    678800000.0\n",
       "1873    652300000.0\n",
       "727     623400000.0\n",
       "           ...     \n",
       "1018          400.0\n",
       "2757          300.0\n",
       "2756          300.0\n",
       "2321          300.0\n",
       "1476          100.0\n",
       "Name: domestic_gross, Length: 3359, dtype: float64"
      ]
     },
     "execution_count": 32,
     "metadata": {},
     "output_type": "execute_result"
    }
   ],
   "source": [
    "BOM_nona_domestic['domestic_gross'].sort_values(ascending=False)"
   ]
  },
  {
   "cell_type": "markdown",
   "metadata": {},
   "source": [
    "# Pulling data from WIKI"
   ]
  },
  {
   "cell_type": "markdown",
   "metadata": {},
   "source": [
    "Observing Microsoft IPs with the gaming companies"
   ]
  },
  {
   "cell_type": "code",
   "execution_count": 33,
   "metadata": {},
   "outputs": [],
   "source": [
    "#importing libraries for web scraping.  Grabbed single charts from Wiki\n",
    "import requests\n",
    "from bs4 import BeautifulSoup"
   ]
  },
  {
   "cell_type": "code",
   "execution_count": 34,
   "metadata": {},
   "outputs": [],
   "source": [
    "r = requests.get('https://en.wikipedia.org/wiki/List_of_mergers_and_acquisitions_by_Microsoft')"
   ]
  },
  {
   "cell_type": "code",
   "execution_count": 35,
   "metadata": {},
   "outputs": [],
   "source": [
    "soup = BeautifulSoup(r.text)"
   ]
  },
  {
   "cell_type": "code",
   "execution_count": 36,
   "metadata": {
    "scrolled": true
   },
   "outputs": [],
   "source": [
    "table = soup.find('table', {'class': \"wikitable sortable\"})"
   ]
  },
  {
   "cell_type": "code",
   "execution_count": 37,
   "metadata": {},
   "outputs": [
    {
     "data": {
      "text/plain": [
       "271"
      ]
     },
     "execution_count": 37,
     "metadata": {},
     "output_type": "execute_result"
    }
   ],
   "source": [
    "len(table.find_all('tr')) #length matches the table on Wiki"
   ]
  },
  {
   "cell_type": "code",
   "execution_count": 38,
   "metadata": {},
   "outputs": [
    {
     "data": {
      "text/html": [
       "<div>\n",
       "<style scoped>\n",
       "    .dataframe tbody tr th:only-of-type {\n",
       "        vertical-align: middle;\n",
       "    }\n",
       "\n",
       "    .dataframe tbody tr th {\n",
       "        vertical-align: top;\n",
       "    }\n",
       "\n",
       "    .dataframe thead th {\n",
       "        text-align: right;\n",
       "    }\n",
       "</style>\n",
       "<table border=\"1\" class=\"dataframe\">\n",
       "  <thead>\n",
       "    <tr style=\"text-align: right;\">\n",
       "      <th></th>\n",
       "      <th>Date</th>\n",
       "      <th>Company</th>\n",
       "      <th>Business</th>\n",
       "      <th>Country</th>\n",
       "      <th>Value (  USD  )</th>\n",
       "      <th>References</th>\n",
       "    </tr>\n",
       "  </thead>\n",
       "  <tbody>\n",
       "    <tr>\n",
       "      <th>0</th>\n",
       "      <td>July 30, 1987</td>\n",
       "      <td>Forethought, Inc.</td>\n",
       "      <td>Computer software</td>\n",
       "      <td>United States</td>\n",
       "      <td>14000000</td>\n",
       "      <td>[25]</td>\n",
       "    </tr>\n",
       "    <tr>\n",
       "      <th>1</th>\n",
       "      <td>March 31, 1991</td>\n",
       "      <td>Consumers Software</td>\n",
       "      <td>Software</td>\n",
       "      <td>Canada</td>\n",
       "      <td>—</td>\n",
       "      <td>[26]</td>\n",
       "    </tr>\n",
       "    <tr>\n",
       "      <th>2</th>\n",
       "      <td>June 29, 1992</td>\n",
       "      <td>Fox Software</td>\n",
       "      <td>PC database software</td>\n",
       "      <td>United States</td>\n",
       "      <td>—</td>\n",
       "      <td>[27]</td>\n",
       "    </tr>\n",
       "    <tr>\n",
       "      <th>3</th>\n",
       "      <td>February 28, 1994</td>\n",
       "      <td>Softimage</td>\n",
       "      <td>Wholesale 3-D visualization software</td>\n",
       "      <td>Canada</td>\n",
       "      <td>130000000</td>\n",
       "      <td>[28]</td>\n",
       "    </tr>\n",
       "    <tr>\n",
       "      <th>4</th>\n",
       "      <td>September 27, 1994</td>\n",
       "      <td>Altamira Software</td>\n",
       "      <td>Software</td>\n",
       "      <td>United States</td>\n",
       "      <td>—</td>\n",
       "      <td>[29]</td>\n",
       "    </tr>\n",
       "  </tbody>\n",
       "</table>\n",
       "</div>"
      ],
      "text/plain": [
       "                 Date             Company  \\\n",
       "0       July 30, 1987   Forethought, Inc.   \n",
       "1      March 31, 1991  Consumers Software   \n",
       "2       June 29, 1992        Fox Software   \n",
       "3   February 28, 1994           Softimage   \n",
       "4  September 27, 1994   Altamira Software   \n",
       "\n",
       "                               Business        Country Value (  USD  )  \\\n",
       "0                     Computer software  United States        14000000   \n",
       "1                              Software         Canada               —   \n",
       "2                  PC database software  United States               —   \n",
       "3  Wholesale 3-D visualization software         Canada       130000000   \n",
       "4                              Software  United States               —   \n",
       "\n",
       "  References  \n",
       "0       [25]  \n",
       "1       [26]  \n",
       "2       [27]  \n",
       "3       [28]  \n",
       "4       [29]  "
      ]
     },
     "execution_count": 38,
     "metadata": {},
     "output_type": "execute_result"
    }
   ],
   "source": [
    "Microsoft_Acquisitions_df = pd.read_html(table.prettify())[0]\n",
    "Microsoft_Acquisitions_df.head()"
   ]
  },
  {
   "cell_type": "code",
   "execution_count": 39,
   "metadata": {},
   "outputs": [
    {
     "name": "stdout",
     "output_type": "stream",
     "text": [
      "<class 'pandas.core.frame.DataFrame'>\n",
      "RangeIndex: 270 entries, 0 to 269\n",
      "Data columns (total 6 columns):\n",
      " #   Column           Non-Null Count  Dtype \n",
      "---  ------           --------------  ----- \n",
      " 0   Date             270 non-null    object\n",
      " 1   Company          270 non-null    object\n",
      " 2   Business         270 non-null    object\n",
      " 3   Country          270 non-null    object\n",
      " 4   Value (  USD  )  256 non-null    object\n",
      " 5   References       268 non-null    object\n",
      "dtypes: object(6)\n",
      "memory usage: 12.8+ KB\n"
     ]
    }
   ],
   "source": [
    "Microsoft_Acquisitions_df.info()"
   ]
  },
  {
   "cell_type": "code",
   "execution_count": 40,
   "metadata": {},
   "outputs": [
    {
     "data": {
      "text/plain": [
       "Software                                       37\n",
       "Video games                                    19\n",
       "Internet software                               8\n",
       "Internet service provider                       4\n",
       "5G Networking                                   3\n",
       "                                               ..\n",
       "Virtual reality                                 1\n",
       "Application provisioning and virtualization     1\n",
       "AI & machine learning technology                1\n",
       "Mobile lock screen software                     1\n",
       "Multi touch hardware                            1\n",
       "Name: Business, Length: 193, dtype: int64"
      ]
     },
     "execution_count": 40,
     "metadata": {},
     "output_type": "execute_result"
    }
   ],
   "source": [
    "Microsoft_Acquisitions_df['Business'].value_counts() #~10% of of acquisitions by Microsoft according to this chart were in the \n",
    "                                                        #videa gaming sector"
   ]
  },
  {
   "cell_type": "code",
   "execution_count": 41,
   "metadata": {
    "scrolled": true
   },
   "outputs": [
    {
     "data": {
      "text/html": [
       "<div>\n",
       "<style scoped>\n",
       "    .dataframe tbody tr th:only-of-type {\n",
       "        vertical-align: middle;\n",
       "    }\n",
       "\n",
       "    .dataframe tbody tr th {\n",
       "        vertical-align: top;\n",
       "    }\n",
       "\n",
       "    .dataframe thead th {\n",
       "        text-align: right;\n",
       "    }\n",
       "</style>\n",
       "<table border=\"1\" class=\"dataframe\">\n",
       "  <thead>\n",
       "    <tr style=\"text-align: right;\">\n",
       "      <th></th>\n",
       "      <th>Date</th>\n",
       "      <th>Company</th>\n",
       "      <th>Business</th>\n",
       "      <th>Country</th>\n",
       "      <th>Value (  USD  )</th>\n",
       "      <th>References</th>\n",
       "    </tr>\n",
       "  </thead>\n",
       "  <tbody>\n",
       "    <tr>\n",
       "      <th>33</th>\n",
       "      <td>January 11, 1999</td>\n",
       "      <td>FASA Interactive</td>\n",
       "      <td>Video games</td>\n",
       "      <td>United States</td>\n",
       "      <td>—</td>\n",
       "      <td>[59]</td>\n",
       "    </tr>\n",
       "    <tr>\n",
       "      <th>36</th>\n",
       "      <td>April 19, 1999</td>\n",
       "      <td>Access Software</td>\n",
       "      <td>Video games</td>\n",
       "      <td>United States</td>\n",
       "      <td>—</td>\n",
       "      <td>[62]</td>\n",
       "    </tr>\n",
       "    <tr>\n",
       "      <th>51</th>\n",
       "      <td>June 19, 2000</td>\n",
       "      <td>Bungie</td>\n",
       "      <td>Video games</td>\n",
       "      <td>United States</td>\n",
       "      <td>—</td>\n",
       "      <td>[77]</td>\n",
       "    </tr>\n",
       "    <tr>\n",
       "      <th>55</th>\n",
       "      <td>December 5, 2000</td>\n",
       "      <td>Digital Anvil</td>\n",
       "      <td>Video games</td>\n",
       "      <td>United States</td>\n",
       "      <td>—</td>\n",
       "      <td>[81]</td>\n",
       "    </tr>\n",
       "    <tr>\n",
       "      <th>59</th>\n",
       "      <td>May 3, 2001</td>\n",
       "      <td>Ensemble Studios</td>\n",
       "      <td>Video games</td>\n",
       "      <td>United States</td>\n",
       "      <td>—</td>\n",
       "      <td>[85]</td>\n",
       "    </tr>\n",
       "    <tr>\n",
       "      <th>68</th>\n",
       "      <td>September 24, 2002</td>\n",
       "      <td>Rare</td>\n",
       "      <td>Video games</td>\n",
       "      <td>United Kingdom</td>\n",
       "      <td>375000000</td>\n",
       "      <td>[94]</td>\n",
       "    </tr>\n",
       "    <tr>\n",
       "      <th>95</th>\n",
       "      <td>April 6, 2006</td>\n",
       "      <td>Lionhead Studios</td>\n",
       "      <td>Video games</td>\n",
       "      <td>United Kingdom</td>\n",
       "      <td>—</td>\n",
       "      <td>[121]</td>\n",
       "    </tr>\n",
       "    <tr>\n",
       "      <th>150</th>\n",
       "      <td>October 12, 2011</td>\n",
       "      <td>Twisted Pixel Games</td>\n",
       "      <td>Video games</td>\n",
       "      <td>United States</td>\n",
       "      <td>—</td>\n",
       "      <td>[176]</td>\n",
       "    </tr>\n",
       "    <tr>\n",
       "      <th>152</th>\n",
       "      <td>June 5, 2012</td>\n",
       "      <td>Press Play</td>\n",
       "      <td>Video games</td>\n",
       "      <td>Denmark</td>\n",
       "      <td>—</td>\n",
       "      <td>[179]</td>\n",
       "    </tr>\n",
       "    <tr>\n",
       "      <th>172</th>\n",
       "      <td>November 6, 2014</td>\n",
       "      <td>Mojang</td>\n",
       "      <td>Video games</td>\n",
       "      <td>Sweden</td>\n",
       "      <td>NaN</td>\n",
       "      <td>[199]</td>\n",
       "    </tr>\n",
       "    <tr>\n",
       "      <th>217</th>\n",
       "      <td>June 11, 2018</td>\n",
       "      <td>Ninja Theory</td>\n",
       "      <td>Video games</td>\n",
       "      <td>United Kingdom</td>\n",
       "      <td>—</td>\n",
       "      <td>[253]</td>\n",
       "    </tr>\n",
       "    <tr>\n",
       "      <th>218</th>\n",
       "      <td>June 11, 2018</td>\n",
       "      <td>Undead Labs</td>\n",
       "      <td>Video games</td>\n",
       "      <td>United States</td>\n",
       "      <td>—</td>\n",
       "      <td>[253]</td>\n",
       "    </tr>\n",
       "    <tr>\n",
       "      <th>219</th>\n",
       "      <td>June 11, 2018</td>\n",
       "      <td>Compulsion Games</td>\n",
       "      <td>Video games</td>\n",
       "      <td>Canada</td>\n",
       "      <td>—</td>\n",
       "      <td>[253]</td>\n",
       "    </tr>\n",
       "    <tr>\n",
       "      <th>220</th>\n",
       "      <td>June 11, 2018</td>\n",
       "      <td>Playground Games</td>\n",
       "      <td>Video games</td>\n",
       "      <td>United Kingdom</td>\n",
       "      <td>—</td>\n",
       "      <td>[253]</td>\n",
       "    </tr>\n",
       "    <tr>\n",
       "      <th>226</th>\n",
       "      <td>November 10, 2018</td>\n",
       "      <td>inXile Entertainment</td>\n",
       "      <td>Video games</td>\n",
       "      <td>United States</td>\n",
       "      <td>—</td>\n",
       "      <td>[262]  [263]</td>\n",
       "    </tr>\n",
       "    <tr>\n",
       "      <th>227</th>\n",
       "      <td>November 10, 2018</td>\n",
       "      <td>Obsidian Entertainment</td>\n",
       "      <td>Video games</td>\n",
       "      <td>United States</td>\n",
       "      <td>—</td>\n",
       "      <td>[262]  [263]</td>\n",
       "    </tr>\n",
       "    <tr>\n",
       "      <th>236</th>\n",
       "      <td>June 9, 2019</td>\n",
       "      <td>Double Fine Productions</td>\n",
       "      <td>Video games</td>\n",
       "      <td>United States</td>\n",
       "      <td>—</td>\n",
       "      <td>[272]</td>\n",
       "    </tr>\n",
       "    <tr>\n",
       "      <th>251</th>\n",
       "      <td>September 21, 2020</td>\n",
       "      <td>ZeniMax Media</td>\n",
       "      <td>Video games</td>\n",
       "      <td>United States</td>\n",
       "      <td>NaN</td>\n",
       "      <td>[290]</td>\n",
       "    </tr>\n",
       "    <tr>\n",
       "      <th>268</th>\n",
       "      <td>January 18, 2022</td>\n",
       "      <td>Activision Blizzard</td>\n",
       "      <td>Video games</td>\n",
       "      <td>United States</td>\n",
       "      <td>NaN</td>\n",
       "      <td>[307]</td>\n",
       "    </tr>\n",
       "  </tbody>\n",
       "</table>\n",
       "</div>"
      ],
      "text/plain": [
       "                   Date                  Company     Business         Country  \\\n",
       "33     January 11, 1999         FASA Interactive  Video games   United States   \n",
       "36       April 19, 1999          Access Software  Video games   United States   \n",
       "51        June 19, 2000                   Bungie  Video games   United States   \n",
       "55     December 5, 2000            Digital Anvil  Video games   United States   \n",
       "59          May 3, 2001         Ensemble Studios  Video games   United States   \n",
       "68   September 24, 2002                     Rare  Video games  United Kingdom   \n",
       "95        April 6, 2006         Lionhead Studios  Video games  United Kingdom   \n",
       "150    October 12, 2011      Twisted Pixel Games  Video games   United States   \n",
       "152        June 5, 2012               Press Play  Video games         Denmark   \n",
       "172    November 6, 2014                   Mojang  Video games          Sweden   \n",
       "217       June 11, 2018             Ninja Theory  Video games  United Kingdom   \n",
       "218       June 11, 2018              Undead Labs  Video games   United States   \n",
       "219       June 11, 2018         Compulsion Games  Video games          Canada   \n",
       "220       June 11, 2018         Playground Games  Video games  United Kingdom   \n",
       "226   November 10, 2018     inXile Entertainment  Video games   United States   \n",
       "227   November 10, 2018   Obsidian Entertainment  Video games   United States   \n",
       "236        June 9, 2019  Double Fine Productions  Video games   United States   \n",
       "251  September 21, 2020            ZeniMax Media  Video games   United States   \n",
       "268    January 18, 2022      Activision Blizzard  Video games   United States   \n",
       "\n",
       "    Value (  USD  )    References  \n",
       "33                —          [59]  \n",
       "36                —          [62]  \n",
       "51                —          [77]  \n",
       "55                —          [81]  \n",
       "59                —          [85]  \n",
       "68        375000000          [94]  \n",
       "95                —         [121]  \n",
       "150               —         [176]  \n",
       "152               —         [179]  \n",
       "172             NaN         [199]  \n",
       "217               —         [253]  \n",
       "218               —         [253]  \n",
       "219               —         [253]  \n",
       "220               —         [253]  \n",
       "226               —  [262]  [263]  \n",
       "227               —  [262]  [263]  \n",
       "236               —         [272]  \n",
       "251             NaN         [290]  \n",
       "268             NaN         [307]  "
      ]
     },
     "execution_count": 41,
     "metadata": {},
     "output_type": "execute_result"
    }
   ],
   "source": [
    "Microsoft_Video_Games_df = Microsoft_Acquisitions_df[Microsoft_Acquisitions_df['Business'] == \"Video games\"]\n",
    "Microsoft_Video_Games_df #Filtered only businesses that were video games from the Microsoft acquisitions table"
   ]
  },
  {
   "cell_type": "code",
   "execution_count": 42,
   "metadata": {},
   "outputs": [],
   "source": [
    "Microsoft_Owned_Studios = list(Microsoft_Video_Games_df['Company']\n",
    ".str.replace(\" Games\", \"\")\n",
    ".str.replace(\" Entertainment\", \"\")\n",
    ".str.replace(\" Media\", \"\")\n",
    ".str.replace(\" Studios\", \"\")\n",
    ".str.replace(\" Productions\", \"\")\n",
    ".str.replace(\" Blizzard\", \"\"))+[\"Bethesda\"]+[\"Microsoft\"]"
   ]
  },
  {
   "cell_type": "code",
   "execution_count": 43,
   "metadata": {},
   "outputs": [
    {
     "data": {
      "text/plain": [
       "['FASA Interactive',\n",
       " 'Access Software',\n",
       " 'Bungie',\n",
       " 'Digital Anvil',\n",
       " 'Ensemble',\n",
       " 'Rare',\n",
       " 'Lionhead',\n",
       " 'Twisted Pixel',\n",
       " 'Press Play',\n",
       " 'Mojang',\n",
       " 'Ninja Theory',\n",
       " 'Undead Labs',\n",
       " 'Compulsion',\n",
       " 'Playground',\n",
       " 'inXile',\n",
       " 'Obsidian',\n",
       " 'Double Fine',\n",
       " 'ZeniMax',\n",
       " 'Activision',\n",
       " 'Bethesda',\n",
       " 'Microsoft']"
      ]
     },
     "execution_count": 43,
     "metadata": {},
     "output_type": "execute_result"
    }
   ],
   "source": [
    "Microsoft_Owned_Studios"
   ]
  },
  {
   "cell_type": "markdown",
   "metadata": {},
   "source": [
    "# Kaggle Video Game Data"
   ]
  },
  {
   "cell_type": "code",
   "execution_count": 44,
   "metadata": {
    "scrolled": true
   },
   "outputs": [
    {
     "name": "stdout",
     "output_type": "stream",
     "text": [
      "<class 'pandas.core.frame.DataFrame'>\n",
      "RangeIndex: 16719 entries, 0 to 16718\n",
      "Data columns (total 16 columns):\n",
      " #   Column           Non-Null Count  Dtype  \n",
      "---  ------           --------------  -----  \n",
      " 0   Name             16717 non-null  object \n",
      " 1   Platform         16719 non-null  object \n",
      " 2   Year_of_Release  16450 non-null  float64\n",
      " 3   Genre            16717 non-null  object \n",
      " 4   Publisher        16665 non-null  object \n",
      " 5   NA_Sales         16719 non-null  float64\n",
      " 6   EU_Sales         16719 non-null  float64\n",
      " 7   JP_Sales         16719 non-null  float64\n",
      " 8   Other_Sales      16719 non-null  float64\n",
      " 9   Global_Sales     16719 non-null  float64\n",
      " 10  Critic_Score     8137 non-null   float64\n",
      " 11  Critic_Count     8137 non-null   float64\n",
      " 12  User_Score       10015 non-null  object \n",
      " 13  User_Count       7590 non-null   float64\n",
      " 14  Developer        10096 non-null  object \n",
      " 15  Rating           9950 non-null   object \n",
      "dtypes: float64(9), object(7)\n",
      "memory usage: 2.0+ MB\n"
     ]
    }
   ],
   "source": [
    "#url = https://www.kaggle.com/coffeepot/videogame-sales/data\n",
    "#creator of db = RYANCOX\n",
    "video_game_df = pd.read_csv('../../data/Video_Games_Sales_as_at_22_Dec_2016.csv.zip')\n",
    "video_game_df.info()"
   ]
  },
  {
   "cell_type": "code",
   "execution_count": 45,
   "metadata": {},
   "outputs": [],
   "source": [
    "#plt.bar(x=video_game_df['Publisher'].value_counts().index, height=video_game_df['Publisher'].value_counts())\n",
    "#Just want to see the distribution of Publishers.  Dont need to pull names"
   ]
  },
  {
   "cell_type": "code",
   "execution_count": 46,
   "metadata": {},
   "outputs": [
    {
     "data": {
      "text/html": [
       "<div>\n",
       "<style scoped>\n",
       "    .dataframe tbody tr th:only-of-type {\n",
       "        vertical-align: middle;\n",
       "    }\n",
       "\n",
       "    .dataframe tbody tr th {\n",
       "        vertical-align: top;\n",
       "    }\n",
       "\n",
       "    .dataframe thead th {\n",
       "        text-align: right;\n",
       "    }\n",
       "</style>\n",
       "<table border=\"1\" class=\"dataframe\">\n",
       "  <thead>\n",
       "    <tr style=\"text-align: right;\">\n",
       "      <th></th>\n",
       "      <th>Name</th>\n",
       "      <th>Platform</th>\n",
       "      <th>Year_of_Release</th>\n",
       "      <th>Genre</th>\n",
       "      <th>Publisher</th>\n",
       "      <th>NA_Sales</th>\n",
       "      <th>EU_Sales</th>\n",
       "      <th>JP_Sales</th>\n",
       "      <th>Other_Sales</th>\n",
       "      <th>Global_Sales</th>\n",
       "      <th>Critic_Score</th>\n",
       "      <th>Critic_Count</th>\n",
       "      <th>User_Score</th>\n",
       "      <th>User_Count</th>\n",
       "      <th>Developer</th>\n",
       "      <th>Rating</th>\n",
       "    </tr>\n",
       "  </thead>\n",
       "  <tbody>\n",
       "    <tr>\n",
       "      <th>0</th>\n",
       "      <td>Wii Sports</td>\n",
       "      <td>Wii</td>\n",
       "      <td>2006.0</td>\n",
       "      <td>Sports</td>\n",
       "      <td>Nintendo</td>\n",
       "      <td>41.36</td>\n",
       "      <td>28.96</td>\n",
       "      <td>3.77</td>\n",
       "      <td>8.45</td>\n",
       "      <td>82.53</td>\n",
       "      <td>76.0</td>\n",
       "      <td>51.0</td>\n",
       "      <td>8</td>\n",
       "      <td>322.0</td>\n",
       "      <td>Nintendo</td>\n",
       "      <td>E</td>\n",
       "    </tr>\n",
       "  </tbody>\n",
       "</table>\n",
       "</div>"
      ],
      "text/plain": [
       "         Name Platform  Year_of_Release   Genre Publisher  NA_Sales  EU_Sales  \\\n",
       "0  Wii Sports      Wii           2006.0  Sports  Nintendo     41.36     28.96   \n",
       "\n",
       "   JP_Sales  Other_Sales  Global_Sales  Critic_Score  Critic_Count User_Score  \\\n",
       "0      3.77         8.45         82.53          76.0          51.0          8   \n",
       "\n",
       "   User_Count Developer Rating  \n",
       "0       322.0  Nintendo      E  "
      ]
     },
     "execution_count": 46,
     "metadata": {},
     "output_type": "execute_result"
    }
   ],
   "source": [
    "video_game_df.head(1)"
   ]
  },
  {
   "cell_type": "code",
   "execution_count": 47,
   "metadata": {},
   "outputs": [],
   "source": [
    "video_no_NaN = video_game_df.dropna(subset= ['Publisher'])"
   ]
  },
  {
   "cell_type": "code",
   "execution_count": 48,
   "metadata": {},
   "outputs": [
    {
     "data": {
      "text/plain": [
       "'FASA Interactive|Access Software|Bungie|Digital Anvil|Ensemble|Rare|Lionhead|Twisted Pixel|Press Play|Mojang|Ninja Theory|Undead Labs|Compulsion|Playground|inXile|Obsidian|Double Fine|ZeniMax|Activision|Bethesda|Microsoft'"
      ]
     },
     "execution_count": 48,
     "metadata": {},
     "output_type": "execute_result"
    }
   ],
   "source": [
    "('|'.join(Microsoft_Owned_Studios))"
   ]
  },
  {
   "cell_type": "code",
   "execution_count": 49,
   "metadata": {
    "scrolled": true
   },
   "outputs": [
    {
     "data": {
      "text/plain": [
       "Activision                985\n",
       "Microsoft Game Studios    191\n",
       "Bethesda Softworks         76\n",
       "Activision Value           29\n",
       "Mojang                      5\n",
       "Activision Blizzard         1\n",
       "inXile Entertainment        1\n",
       "Name: Publisher, dtype: int64"
      ]
     },
     "execution_count": 49,
     "metadata": {},
     "output_type": "execute_result"
    }
   ],
   "source": [
    "Total_Microsoft_Df=video_no_NaN.loc[video_no_NaN['Publisher'].str.contains('|'.join(Microsoft_Owned_Studios))]\n",
    "Total_Microsoft_Df['Publisher'].value_counts()"
   ]
  },
  {
   "cell_type": "code",
   "execution_count": 50,
   "metadata": {},
   "outputs": [
    {
     "data": {
      "text/html": [
       "<div>\n",
       "<style scoped>\n",
       "    .dataframe tbody tr th:only-of-type {\n",
       "        vertical-align: middle;\n",
       "    }\n",
       "\n",
       "    .dataframe tbody tr th {\n",
       "        vertical-align: top;\n",
       "    }\n",
       "\n",
       "    .dataframe thead th {\n",
       "        text-align: right;\n",
       "    }\n",
       "</style>\n",
       "<table border=\"1\" class=\"dataframe\">\n",
       "  <thead>\n",
       "    <tr style=\"text-align: right;\">\n",
       "      <th></th>\n",
       "      <th>index</th>\n",
       "      <th>Name</th>\n",
       "      <th>Platform</th>\n",
       "      <th>Year_of_Release</th>\n",
       "      <th>Genre</th>\n",
       "      <th>Publisher</th>\n",
       "      <th>NA_Sales</th>\n",
       "      <th>EU_Sales</th>\n",
       "      <th>JP_Sales</th>\n",
       "      <th>Other_Sales</th>\n",
       "      <th>Global_Sales</th>\n",
       "      <th>Critic_Score</th>\n",
       "      <th>Critic_Count</th>\n",
       "      <th>User_Score</th>\n",
       "      <th>User_Count</th>\n",
       "      <th>Developer</th>\n",
       "      <th>Rating</th>\n",
       "    </tr>\n",
       "  </thead>\n",
       "  <tbody>\n",
       "    <tr>\n",
       "      <th>0</th>\n",
       "      <td>14</td>\n",
       "      <td>Kinect Adventures!</td>\n",
       "      <td>X360</td>\n",
       "      <td>2010.0</td>\n",
       "      <td>Misc</td>\n",
       "      <td>Microsoft Game Studios</td>\n",
       "      <td>15.00</td>\n",
       "      <td>4.89</td>\n",
       "      <td>0.24</td>\n",
       "      <td>1.69</td>\n",
       "      <td>21.81</td>\n",
       "      <td>61.0</td>\n",
       "      <td>45.0</td>\n",
       "      <td>6.3</td>\n",
       "      <td>106.0</td>\n",
       "      <td>Good Science Studio</td>\n",
       "      <td>E</td>\n",
       "    </tr>\n",
       "    <tr>\n",
       "      <th>1</th>\n",
       "      <td>29</td>\n",
       "      <td>Call of Duty: Modern Warfare 3</td>\n",
       "      <td>X360</td>\n",
       "      <td>2011.0</td>\n",
       "      <td>Shooter</td>\n",
       "      <td>Activision</td>\n",
       "      <td>9.04</td>\n",
       "      <td>4.24</td>\n",
       "      <td>0.13</td>\n",
       "      <td>1.32</td>\n",
       "      <td>14.73</td>\n",
       "      <td>88.0</td>\n",
       "      <td>81.0</td>\n",
       "      <td>3.4</td>\n",
       "      <td>8713.0</td>\n",
       "      <td>Infinity Ward, Sledgehammer Games</td>\n",
       "      <td>M</td>\n",
       "    </tr>\n",
       "    <tr>\n",
       "      <th>2</th>\n",
       "      <td>31</td>\n",
       "      <td>Call of Duty: Black Ops 3</td>\n",
       "      <td>PS4</td>\n",
       "      <td>2015.0</td>\n",
       "      <td>Shooter</td>\n",
       "      <td>Activision</td>\n",
       "      <td>6.03</td>\n",
       "      <td>5.86</td>\n",
       "      <td>0.36</td>\n",
       "      <td>2.38</td>\n",
       "      <td>14.63</td>\n",
       "      <td>NaN</td>\n",
       "      <td>NaN</td>\n",
       "      <td>NaN</td>\n",
       "      <td>NaN</td>\n",
       "      <td>NaN</td>\n",
       "      <td>NaN</td>\n",
       "    </tr>\n",
       "    <tr>\n",
       "      <th>3</th>\n",
       "      <td>32</td>\n",
       "      <td>Call of Duty: Black Ops</td>\n",
       "      <td>X360</td>\n",
       "      <td>2010.0</td>\n",
       "      <td>Shooter</td>\n",
       "      <td>Activision</td>\n",
       "      <td>9.70</td>\n",
       "      <td>3.68</td>\n",
       "      <td>0.11</td>\n",
       "      <td>1.13</td>\n",
       "      <td>14.61</td>\n",
       "      <td>87.0</td>\n",
       "      <td>89.0</td>\n",
       "      <td>6.3</td>\n",
       "      <td>1454.0</td>\n",
       "      <td>Treyarch</td>\n",
       "      <td>M</td>\n",
       "    </tr>\n",
       "    <tr>\n",
       "      <th>4</th>\n",
       "      <td>34</td>\n",
       "      <td>Call of Duty: Black Ops II</td>\n",
       "      <td>PS3</td>\n",
       "      <td>2012.0</td>\n",
       "      <td>Shooter</td>\n",
       "      <td>Activision</td>\n",
       "      <td>4.99</td>\n",
       "      <td>5.73</td>\n",
       "      <td>0.65</td>\n",
       "      <td>2.42</td>\n",
       "      <td>13.79</td>\n",
       "      <td>83.0</td>\n",
       "      <td>21.0</td>\n",
       "      <td>5.3</td>\n",
       "      <td>922.0</td>\n",
       "      <td>Treyarch</td>\n",
       "      <td>M</td>\n",
       "    </tr>\n",
       "    <tr>\n",
       "      <th>...</th>\n",
       "      <td>...</td>\n",
       "      <td>...</td>\n",
       "      <td>...</td>\n",
       "      <td>...</td>\n",
       "      <td>...</td>\n",
       "      <td>...</td>\n",
       "      <td>...</td>\n",
       "      <td>...</td>\n",
       "      <td>...</td>\n",
       "      <td>...</td>\n",
       "      <td>...</td>\n",
       "      <td>...</td>\n",
       "      <td>...</td>\n",
       "      <td>...</td>\n",
       "      <td>...</td>\n",
       "      <td>...</td>\n",
       "      <td>...</td>\n",
       "    </tr>\n",
       "    <tr>\n",
       "      <th>1283</th>\n",
       "      <td>16564</td>\n",
       "      <td>Transformers: Prime</td>\n",
       "      <td>Wii</td>\n",
       "      <td>2012.0</td>\n",
       "      <td>Action</td>\n",
       "      <td>Activision</td>\n",
       "      <td>0.00</td>\n",
       "      <td>0.01</td>\n",
       "      <td>0.00</td>\n",
       "      <td>0.00</td>\n",
       "      <td>0.01</td>\n",
       "      <td>NaN</td>\n",
       "      <td>NaN</td>\n",
       "      <td>NaN</td>\n",
       "      <td>NaN</td>\n",
       "      <td>NaN</td>\n",
       "      <td>NaN</td>\n",
       "    </tr>\n",
       "    <tr>\n",
       "      <th>1284</th>\n",
       "      <td>16588</td>\n",
       "      <td>Transformers: Fall of Cybertron</td>\n",
       "      <td>PC</td>\n",
       "      <td>2012.0</td>\n",
       "      <td>Action</td>\n",
       "      <td>Activision</td>\n",
       "      <td>0.01</td>\n",
       "      <td>0.00</td>\n",
       "      <td>0.00</td>\n",
       "      <td>0.00</td>\n",
       "      <td>0.01</td>\n",
       "      <td>78.0</td>\n",
       "      <td>13.0</td>\n",
       "      <td>7.9</td>\n",
       "      <td>121.0</td>\n",
       "      <td>High Moon Studios, Mercenary Technologies</td>\n",
       "      <td>T</td>\n",
       "    </tr>\n",
       "    <tr>\n",
       "      <th>1285</th>\n",
       "      <td>16606</td>\n",
       "      <td>Transformers: War for Cybertron (XBox 360, PS3...</td>\n",
       "      <td>PC</td>\n",
       "      <td>2010.0</td>\n",
       "      <td>Shooter</td>\n",
       "      <td>Activision</td>\n",
       "      <td>0.01</td>\n",
       "      <td>0.00</td>\n",
       "      <td>0.00</td>\n",
       "      <td>0.00</td>\n",
       "      <td>0.01</td>\n",
       "      <td>NaN</td>\n",
       "      <td>NaN</td>\n",
       "      <td>NaN</td>\n",
       "      <td>NaN</td>\n",
       "      <td>NaN</td>\n",
       "      <td>NaN</td>\n",
       "    </tr>\n",
       "    <tr>\n",
       "      <th>1286</th>\n",
       "      <td>16635</td>\n",
       "      <td>The Amazing Spider-Man 2 (2014)</td>\n",
       "      <td>PC</td>\n",
       "      <td>2014.0</td>\n",
       "      <td>Action</td>\n",
       "      <td>Activision</td>\n",
       "      <td>0.00</td>\n",
       "      <td>0.01</td>\n",
       "      <td>0.00</td>\n",
       "      <td>0.00</td>\n",
       "      <td>0.01</td>\n",
       "      <td>NaN</td>\n",
       "      <td>NaN</td>\n",
       "      <td>NaN</td>\n",
       "      <td>NaN</td>\n",
       "      <td>NaN</td>\n",
       "      <td>NaN</td>\n",
       "    </tr>\n",
       "    <tr>\n",
       "      <th>1287</th>\n",
       "      <td>16713</td>\n",
       "      <td>SCORE International Baja 1000: The Official Game</td>\n",
       "      <td>PS2</td>\n",
       "      <td>2008.0</td>\n",
       "      <td>Racing</td>\n",
       "      <td>Activision</td>\n",
       "      <td>0.00</td>\n",
       "      <td>0.00</td>\n",
       "      <td>0.00</td>\n",
       "      <td>0.00</td>\n",
       "      <td>0.01</td>\n",
       "      <td>NaN</td>\n",
       "      <td>NaN</td>\n",
       "      <td>NaN</td>\n",
       "      <td>NaN</td>\n",
       "      <td>NaN</td>\n",
       "      <td>NaN</td>\n",
       "    </tr>\n",
       "  </tbody>\n",
       "</table>\n",
       "<p>1288 rows × 17 columns</p>\n",
       "</div>"
      ],
      "text/plain": [
       "      index                                               Name Platform  \\\n",
       "0        14                                 Kinect Adventures!     X360   \n",
       "1        29                     Call of Duty: Modern Warfare 3     X360   \n",
       "2        31                          Call of Duty: Black Ops 3      PS4   \n",
       "3        32                            Call of Duty: Black Ops     X360   \n",
       "4        34                         Call of Duty: Black Ops II      PS3   \n",
       "...     ...                                                ...      ...   \n",
       "1283  16564                                Transformers: Prime      Wii   \n",
       "1284  16588                    Transformers: Fall of Cybertron       PC   \n",
       "1285  16606  Transformers: War for Cybertron (XBox 360, PS3...       PC   \n",
       "1286  16635                    The Amazing Spider-Man 2 (2014)       PC   \n",
       "1287  16713   SCORE International Baja 1000: The Official Game      PS2   \n",
       "\n",
       "      Year_of_Release    Genre               Publisher  NA_Sales  EU_Sales  \\\n",
       "0              2010.0     Misc  Microsoft Game Studios     15.00      4.89   \n",
       "1              2011.0  Shooter              Activision      9.04      4.24   \n",
       "2              2015.0  Shooter              Activision      6.03      5.86   \n",
       "3              2010.0  Shooter              Activision      9.70      3.68   \n",
       "4              2012.0  Shooter              Activision      4.99      5.73   \n",
       "...               ...      ...                     ...       ...       ...   \n",
       "1283           2012.0   Action              Activision      0.00      0.01   \n",
       "1284           2012.0   Action              Activision      0.01      0.00   \n",
       "1285           2010.0  Shooter              Activision      0.01      0.00   \n",
       "1286           2014.0   Action              Activision      0.00      0.01   \n",
       "1287           2008.0   Racing              Activision      0.00      0.00   \n",
       "\n",
       "      JP_Sales  Other_Sales  Global_Sales  Critic_Score  Critic_Count  \\\n",
       "0         0.24         1.69         21.81          61.0          45.0   \n",
       "1         0.13         1.32         14.73          88.0          81.0   \n",
       "2         0.36         2.38         14.63           NaN           NaN   \n",
       "3         0.11         1.13         14.61          87.0          89.0   \n",
       "4         0.65         2.42         13.79          83.0          21.0   \n",
       "...        ...          ...           ...           ...           ...   \n",
       "1283      0.00         0.00          0.01           NaN           NaN   \n",
       "1284      0.00         0.00          0.01          78.0          13.0   \n",
       "1285      0.00         0.00          0.01           NaN           NaN   \n",
       "1286      0.00         0.00          0.01           NaN           NaN   \n",
       "1287      0.00         0.00          0.01           NaN           NaN   \n",
       "\n",
       "     User_Score  User_Count                                  Developer Rating  \n",
       "0           6.3       106.0                        Good Science Studio      E  \n",
       "1           3.4      8713.0          Infinity Ward, Sledgehammer Games      M  \n",
       "2           NaN         NaN                                        NaN    NaN  \n",
       "3           6.3      1454.0                                   Treyarch      M  \n",
       "4           5.3       922.0                                   Treyarch      M  \n",
       "...         ...         ...                                        ...    ...  \n",
       "1283        NaN         NaN                                        NaN    NaN  \n",
       "1284        7.9       121.0  High Moon Studios, Mercenary Technologies      T  \n",
       "1285        NaN         NaN                                        NaN    NaN  \n",
       "1286        NaN         NaN                                        NaN    NaN  \n",
       "1287        NaN         NaN                                        NaN    NaN  \n",
       "\n",
       "[1288 rows x 17 columns]"
      ]
     },
     "execution_count": 50,
     "metadata": {},
     "output_type": "execute_result"
    }
   ],
   "source": [
    "Total_Microsoft_Df.reset_index()"
   ]
  },
  {
   "cell_type": "code",
   "execution_count": 51,
   "metadata": {},
   "outputs": [
    {
     "data": {
      "text/html": [
       "<div>\n",
       "<style scoped>\n",
       "    .dataframe tbody tr th:only-of-type {\n",
       "        vertical-align: middle;\n",
       "    }\n",
       "\n",
       "    .dataframe tbody tr th {\n",
       "        vertical-align: top;\n",
       "    }\n",
       "\n",
       "    .dataframe thead th {\n",
       "        text-align: right;\n",
       "    }\n",
       "</style>\n",
       "<table border=\"1\" class=\"dataframe\">\n",
       "  <thead>\n",
       "    <tr style=\"text-align: right;\">\n",
       "      <th></th>\n",
       "      <th>Name</th>\n",
       "      <th>Platform</th>\n",
       "      <th>Year_of_Release</th>\n",
       "      <th>Genre</th>\n",
       "      <th>Publisher</th>\n",
       "      <th>NA_Sales</th>\n",
       "      <th>EU_Sales</th>\n",
       "      <th>JP_Sales</th>\n",
       "      <th>Other_Sales</th>\n",
       "      <th>Global_Sales</th>\n",
       "      <th>Critic_Score</th>\n",
       "      <th>Critic_Count</th>\n",
       "      <th>User_Score</th>\n",
       "      <th>User_Count</th>\n",
       "      <th>Developer</th>\n",
       "      <th>Rating</th>\n",
       "    </tr>\n",
       "  </thead>\n",
       "  <tbody>\n",
       "    <tr>\n",
       "      <th>2360</th>\n",
       "      <td>Minecraft: Story Mode</td>\n",
       "      <td>X360</td>\n",
       "      <td>2015.0</td>\n",
       "      <td>Adventure</td>\n",
       "      <td>Mojang</td>\n",
       "      <td>0.48</td>\n",
       "      <td>0.33</td>\n",
       "      <td>0.0</td>\n",
       "      <td>0.08</td>\n",
       "      <td>0.88</td>\n",
       "      <td>NaN</td>\n",
       "      <td>NaN</td>\n",
       "      <td>NaN</td>\n",
       "      <td>NaN</td>\n",
       "      <td>NaN</td>\n",
       "      <td>NaN</td>\n",
       "    </tr>\n",
       "    <tr>\n",
       "      <th>2936</th>\n",
       "      <td>Minecraft: Story Mode</td>\n",
       "      <td>PS4</td>\n",
       "      <td>2015.0</td>\n",
       "      <td>Adventure</td>\n",
       "      <td>Mojang</td>\n",
       "      <td>0.25</td>\n",
       "      <td>0.33</td>\n",
       "      <td>0.0</td>\n",
       "      <td>0.11</td>\n",
       "      <td>0.69</td>\n",
       "      <td>NaN</td>\n",
       "      <td>NaN</td>\n",
       "      <td>NaN</td>\n",
       "      <td>NaN</td>\n",
       "      <td>NaN</td>\n",
       "      <td>NaN</td>\n",
       "    </tr>\n",
       "    <tr>\n",
       "      <th>2944</th>\n",
       "      <td>Minecraft: Story Mode</td>\n",
       "      <td>PS3</td>\n",
       "      <td>2015.0</td>\n",
       "      <td>Adventure</td>\n",
       "      <td>Mojang</td>\n",
       "      <td>0.27</td>\n",
       "      <td>0.31</td>\n",
       "      <td>0.0</td>\n",
       "      <td>0.11</td>\n",
       "      <td>0.69</td>\n",
       "      <td>NaN</td>\n",
       "      <td>NaN</td>\n",
       "      <td>NaN</td>\n",
       "      <td>NaN</td>\n",
       "      <td>NaN</td>\n",
       "      <td>NaN</td>\n",
       "    </tr>\n",
       "    <tr>\n",
       "      <th>3579</th>\n",
       "      <td>Minecraft: Story Mode</td>\n",
       "      <td>XOne</td>\n",
       "      <td>2015.0</td>\n",
       "      <td>Adventure</td>\n",
       "      <td>Mojang</td>\n",
       "      <td>0.30</td>\n",
       "      <td>0.21</td>\n",
       "      <td>0.0</td>\n",
       "      <td>0.05</td>\n",
       "      <td>0.56</td>\n",
       "      <td>NaN</td>\n",
       "      <td>NaN</td>\n",
       "      <td>NaN</td>\n",
       "      <td>NaN</td>\n",
       "      <td>NaN</td>\n",
       "      <td>NaN</td>\n",
       "    </tr>\n",
       "    <tr>\n",
       "      <th>10928</th>\n",
       "      <td>Minecraft: Story Mode</td>\n",
       "      <td>PC</td>\n",
       "      <td>2015.0</td>\n",
       "      <td>Adventure</td>\n",
       "      <td>Mojang</td>\n",
       "      <td>0.02</td>\n",
       "      <td>0.06</td>\n",
       "      <td>0.0</td>\n",
       "      <td>0.01</td>\n",
       "      <td>0.09</td>\n",
       "      <td>NaN</td>\n",
       "      <td>NaN</td>\n",
       "      <td>NaN</td>\n",
       "      <td>NaN</td>\n",
       "      <td>NaN</td>\n",
       "      <td>NaN</td>\n",
       "    </tr>\n",
       "  </tbody>\n",
       "</table>\n",
       "</div>"
      ],
      "text/plain": [
       "                        Name Platform  Year_of_Release      Genre Publisher  \\\n",
       "2360   Minecraft: Story Mode     X360           2015.0  Adventure    Mojang   \n",
       "2936   Minecraft: Story Mode      PS4           2015.0  Adventure    Mojang   \n",
       "2944   Minecraft: Story Mode      PS3           2015.0  Adventure    Mojang   \n",
       "3579   Minecraft: Story Mode     XOne           2015.0  Adventure    Mojang   \n",
       "10928  Minecraft: Story Mode       PC           2015.0  Adventure    Mojang   \n",
       "\n",
       "       NA_Sales  EU_Sales  JP_Sales  Other_Sales  Global_Sales  Critic_Score  \\\n",
       "2360       0.48      0.33       0.0         0.08          0.88           NaN   \n",
       "2936       0.25      0.33       0.0         0.11          0.69           NaN   \n",
       "2944       0.27      0.31       0.0         0.11          0.69           NaN   \n",
       "3579       0.30      0.21       0.0         0.05          0.56           NaN   \n",
       "10928      0.02      0.06       0.0         0.01          0.09           NaN   \n",
       "\n",
       "       Critic_Count User_Score  User_Count Developer Rating  \n",
       "2360            NaN        NaN         NaN       NaN    NaN  \n",
       "2936            NaN        NaN         NaN       NaN    NaN  \n",
       "2944            NaN        NaN         NaN       NaN    NaN  \n",
       "3579            NaN        NaN         NaN       NaN    NaN  \n",
       "10928           NaN        NaN         NaN       NaN    NaN  "
      ]
     },
     "execution_count": 51,
     "metadata": {},
     "output_type": "execute_result"
    }
   ],
   "source": [
    "Total_Microsoft_Df[Total_Microsoft_Df['Publisher'].str.contains(\"Mojang\")]"
   ]
  },
  {
   "cell_type": "code",
   "execution_count": 84,
   "metadata": {},
   "outputs": [],
   "source": [
    "def removes_sequels_number(name): #removes numbers or roman numerals at the end of the sequel title\n",
    "    name_inListForm = name.split()\n",
    "    if len(name_inListForm)==0:\n",
    "        return None\n",
    "    if name_inListForm[-1] in ['2','3','4','5','6','7','8','9','II','III','IV','V']: \n",
    "        return ' '.join(name_inListForm[:-1])\n",
    "    return name"
   ]
  },
  {
   "cell_type": "markdown",
   "metadata": {},
   "source": [
    "We are grouping by IP not the Title of the game."
   ]
  },
  {
   "cell_type": "code",
   "execution_count": 85,
   "metadata": {},
   "outputs": [
    {
     "name": "stderr",
     "output_type": "stream",
     "text": [
      "<ipython-input-85-00ff1a1e3af7>:1: SettingWithCopyWarning: \n",
      "A value is trying to be set on a copy of a slice from a DataFrame.\n",
      "Try using .loc[row_indexer,col_indexer] = value instead\n",
      "\n",
      "See the caveats in the documentation: https://pandas.pydata.org/pandas-docs/stable/user_guide/indexing.html#returning-a-view-versus-a-copy\n",
      "  Total_Microsoft_Df['Name'] = Total_Microsoft_Df['Name'].map(removes_sequels_number)\n"
     ]
    },
    {
     "data": {
      "text/plain": [
       "Tony Hawk's Pro Skater                              20\n",
       "Spider-Man                                          15\n",
       "Call of Duty: Black Ops                             14\n",
       "Marvel: Ultimate Alliance                           12\n",
       "Dishonored                                           8\n",
       "                                                    ..\n",
       "Gungrave                                             1\n",
       "Disney's The Lion King: Simba's Mighty Adventure     1\n",
       "Ryse: Son of Rome                                    1\n",
       "Vampire Rain                                         1\n",
       "ZhuZhu Pets                                          1\n",
       "Name: Name, Length: 599, dtype: int64"
      ]
     },
     "execution_count": 85,
     "metadata": {},
     "output_type": "execute_result"
    }
   ],
   "source": [
    "Total_Microsoft_Df['Name'] = Total_Microsoft_Df['Name'].map(removes_sequels_number)\n",
    "Total_Microsoft_Df['Name'].value_counts()"
   ]
  },
  {
   "cell_type": "code",
   "execution_count": 86,
   "metadata": {},
   "outputs": [
    {
     "data": {
      "text/html": [
       "<div>\n",
       "<style scoped>\n",
       "    .dataframe tbody tr th:only-of-type {\n",
       "        vertical-align: middle;\n",
       "    }\n",
       "\n",
       "    .dataframe tbody tr th {\n",
       "        vertical-align: top;\n",
       "    }\n",
       "\n",
       "    .dataframe thead th {\n",
       "        text-align: right;\n",
       "    }\n",
       "</style>\n",
       "<table border=\"1\" class=\"dataframe\">\n",
       "  <thead>\n",
       "    <tr style=\"text-align: right;\">\n",
       "      <th></th>\n",
       "      <th>Name</th>\n",
       "      <th>Year_of_Release</th>\n",
       "      <th>NA_Sales</th>\n",
       "      <th>EU_Sales</th>\n",
       "      <th>JP_Sales</th>\n",
       "      <th>Other_Sales</th>\n",
       "      <th>Global_Sales</th>\n",
       "      <th>Critic_Score</th>\n",
       "      <th>Critic_Count</th>\n",
       "      <th>User_Count</th>\n",
       "    </tr>\n",
       "  </thead>\n",
       "  <tbody>\n",
       "    <tr>\n",
       "      <th>0</th>\n",
       "      <td>Call of Duty: Black Ops</td>\n",
       "      <td>26163.0</td>\n",
       "      <td>43.90</td>\n",
       "      <td>29.68</td>\n",
       "      <td>1.75</td>\n",
       "      <td>10.56</td>\n",
       "      <td>85.90</td>\n",
       "      <td>731.0</td>\n",
       "      <td>350.0</td>\n",
       "      <td>9381.0</td>\n",
       "    </tr>\n",
       "    <tr>\n",
       "      <th>1</th>\n",
       "      <td>Call of Duty: Modern Warfare</td>\n",
       "      <td>14071.0</td>\n",
       "      <td>29.06</td>\n",
       "      <td>19.17</td>\n",
       "      <td>1.08</td>\n",
       "      <td>6.26</td>\n",
       "      <td>55.54</td>\n",
       "      <td>598.0</td>\n",
       "      <td>369.0</td>\n",
       "      <td>31254.0</td>\n",
       "    </tr>\n",
       "    <tr>\n",
       "      <th>2</th>\n",
       "      <td>Halo</td>\n",
       "      <td>8030.0</td>\n",
       "      <td>21.45</td>\n",
       "      <td>6.68</td>\n",
       "      <td>0.22</td>\n",
       "      <td>2.05</td>\n",
       "      <td>30.41</td>\n",
       "      <td>348.0</td>\n",
       "      <td>296.0</td>\n",
       "      <td>8794.0</td>\n",
       "    </tr>\n",
       "    <tr>\n",
       "      <th>3</th>\n",
       "      <td>Tony Hawk's Pro Skater</td>\n",
       "      <td>40078.0</td>\n",
       "      <td>19.52</td>\n",
       "      <td>8.18</td>\n",
       "      <td>0.09</td>\n",
       "      <td>1.57</td>\n",
       "      <td>29.34</td>\n",
       "      <td>1174.0</td>\n",
       "      <td>311.0</td>\n",
       "      <td>1529.0</td>\n",
       "    </tr>\n",
       "    <tr>\n",
       "      <th>4</th>\n",
       "      <td>Call of Duty: Ghosts</td>\n",
       "      <td>12078.0</td>\n",
       "      <td>14.94</td>\n",
       "      <td>8.89</td>\n",
       "      <td>0.48</td>\n",
       "      <td>3.08</td>\n",
       "      <td>27.40</td>\n",
       "      <td>369.0</td>\n",
       "      <td>101.0</td>\n",
       "      <td>5684.0</td>\n",
       "    </tr>\n",
       "    <tr>\n",
       "      <th>5</th>\n",
       "      <td>Fallout</td>\n",
       "      <td>12069.0</td>\n",
       "      <td>11.12</td>\n",
       "      <td>8.26</td>\n",
       "      <td>0.41</td>\n",
       "      <td>2.73</td>\n",
       "      <td>22.52</td>\n",
       "      <td>533.0</td>\n",
       "      <td>324.0</td>\n",
       "      <td>19504.0</td>\n",
       "    </tr>\n",
       "    <tr>\n",
       "      <th>6</th>\n",
       "      <td>Call of Duty: Advanced Warfare</td>\n",
       "      <td>10070.0</td>\n",
       "      <td>10.51</td>\n",
       "      <td>8.30</td>\n",
       "      <td>0.34</td>\n",
       "      <td>2.82</td>\n",
       "      <td>21.99</td>\n",
       "      <td>242.0</td>\n",
       "      <td>110.0</td>\n",
       "      <td>3905.0</td>\n",
       "    </tr>\n",
       "    <tr>\n",
       "      <th>7</th>\n",
       "      <td>Kinect Adventures!</td>\n",
       "      <td>2010.0</td>\n",
       "      <td>15.00</td>\n",
       "      <td>4.89</td>\n",
       "      <td>0.24</td>\n",
       "      <td>1.69</td>\n",
       "      <td>21.81</td>\n",
       "      <td>61.0</td>\n",
       "      <td>45.0</td>\n",
       "      <td>106.0</td>\n",
       "    </tr>\n",
       "    <tr>\n",
       "      <th>8</th>\n",
       "      <td>The Elder Scrolls V: Skyrim</td>\n",
       "      <td>10065.0</td>\n",
       "      <td>9.65</td>\n",
       "      <td>8.37</td>\n",
       "      <td>0.39</td>\n",
       "      <td>2.73</td>\n",
       "      <td>21.15</td>\n",
       "      <td>282.0</td>\n",
       "      <td>137.0</td>\n",
       "      <td>15189.0</td>\n",
       "    </tr>\n",
       "    <tr>\n",
       "      <th>9</th>\n",
       "      <td>Gears of War</td>\n",
       "      <td>10048.0</td>\n",
       "      <td>12.52</td>\n",
       "      <td>5.82</td>\n",
       "      <td>0.20</td>\n",
       "      <td>1.86</td>\n",
       "      <td>20.42</td>\n",
       "      <td>449.0</td>\n",
       "      <td>406.0</td>\n",
       "      <td>7920.0</td>\n",
       "    </tr>\n",
       "  </tbody>\n",
       "</table>\n",
       "</div>"
      ],
      "text/plain": [
       "                             Name  Year_of_Release  NA_Sales  EU_Sales  \\\n",
       "0         Call of Duty: Black Ops          26163.0     43.90     29.68   \n",
       "1    Call of Duty: Modern Warfare          14071.0     29.06     19.17   \n",
       "2                            Halo           8030.0     21.45      6.68   \n",
       "3          Tony Hawk's Pro Skater          40078.0     19.52      8.18   \n",
       "4            Call of Duty: Ghosts          12078.0     14.94      8.89   \n",
       "5                         Fallout          12069.0     11.12      8.26   \n",
       "6  Call of Duty: Advanced Warfare          10070.0     10.51      8.30   \n",
       "7              Kinect Adventures!           2010.0     15.00      4.89   \n",
       "8     The Elder Scrolls V: Skyrim          10065.0      9.65      8.37   \n",
       "9                    Gears of War          10048.0     12.52      5.82   \n",
       "\n",
       "   JP_Sales  Other_Sales  Global_Sales  Critic_Score  Critic_Count  User_Count  \n",
       "0      1.75        10.56         85.90         731.0         350.0      9381.0  \n",
       "1      1.08         6.26         55.54         598.0         369.0     31254.0  \n",
       "2      0.22         2.05         30.41         348.0         296.0      8794.0  \n",
       "3      0.09         1.57         29.34        1174.0         311.0      1529.0  \n",
       "4      0.48         3.08         27.40         369.0         101.0      5684.0  \n",
       "5      0.41         2.73         22.52         533.0         324.0     19504.0  \n",
       "6      0.34         2.82         21.99         242.0         110.0      3905.0  \n",
       "7      0.24         1.69         21.81          61.0          45.0       106.0  \n",
       "8      0.39         2.73         21.15         282.0         137.0     15189.0  \n",
       "9      0.20         1.86         20.42         449.0         406.0      7920.0  "
      ]
     },
     "execution_count": 86,
     "metadata": {},
     "output_type": "execute_result"
    }
   ],
   "source": [
    "Top_10_GS = Total_Microsoft_Df.groupby(\"Name\").sum().sort_values(by= 'Global_Sales', ascending = False).head(10).reset_index()\n",
    "Top_10_GS"
   ]
  },
  {
   "cell_type": "code",
   "execution_count": 87,
   "metadata": {},
   "outputs": [],
   "source": [
    "Top_10_NAS = Total_Microsoft_Df.groupby(\"Name\").sum().sort_values(by= 'NA_Sales', ascending = False).head(10).reset_index()\n",
    "Top_10_EUS = Total_Microsoft_Df.groupby(\"Name\").sum().sort_values(by= 'EU_Sales', ascending = False).head(10).reset_index()\n",
    "Top_10_JPS = Total_Microsoft_Df.groupby(\"Name\").sum().sort_values(by= 'JP_Sales', ascending = False).head(10).reset_index()"
   ]
  },
  {
   "cell_type": "code",
   "execution_count": 88,
   "metadata": {},
   "outputs": [
    {
     "data": {
      "text/plain": [
       "array(['007: Quantum of Solace', '10 Minute Solution',\n",
       "       '2-in-1 Game Pack: Spider-Man & Spider-Man', \"A Bug's Life\",\n",
       "       'A Collection of Activision Classic Games for the Atari 2600',\n",
       "       'A Collection of Classic Games from the Intellivision',\n",
       "       'AMF Bowling Pinbusters!', 'AMF Bowling World Lanes',\n",
       "       'Activision Anthology', 'Activision Hits: Remixed',\n",
       "       'Age of Empires', 'Age of Empires II: The Age of Kings',\n",
       "       'Age of Empires III: Complete Collection',\n",
       "       'Age of Empires III: Gold Edition',\n",
       "       'Age of Empires III: The Asian Dynasties', 'Age of Empires Online',\n",
       "       'Age of Mythology', 'Age of Mythology: The Titans', 'Alan Wake',\n",
       "       'Alienators: Evolution Continues', 'Alter Ego',\n",
       "       'Alundra 2: A New Legend Begins',\n",
       "       'American Chopper 2: Full Throttle', 'Amped',\n",
       "       'Amped: Freestyle Snowboarding', 'Angry Birds Star Wars',\n",
       "       'Angry Birds Trilogy', 'Animal Planet: Emergency Vets',\n",
       "       'Animal Planet: Vet Collection', 'Animal Planet: Vet Life',\n",
       "       'Apache: Air Assault', 'Apocalypse', 'Arcade Zone',\n",
       "       'Azurik: Rise of Perathia',\n",
       "       'Bakugan Battle Brawlers: Defenders of the Core',\n",
       "       'Bakugan: Battle Brawlers', 'Bakugan: Battle Trainer',\n",
       "       'Bakugan: Rise of the Resistance', 'Band Hero', 'Banjo-Kazooie',\n",
       "       'Banjo-Kazooie: Nuts & Bolts',\n",
       "       'Barbie Fashion Show: An Eye for Style',\n",
       "       'Barbie Horse Adventures: Riding Camp',\n",
       "       'Barbie and the Three Musketeers', 'Barbie as The Island Princess',\n",
       "       'Barbie in The 12 Dancing Princesses', 'Barnstorming', 'Beamrider',\n",
       "       'Bee Movie Game', 'Big League Sports', 'Big League Sports: Summer',\n",
       "       'Blackthorne', 'Blade', 'Blast Chamber',\n",
       "       'Blinx 2: Masters of Time & Space', 'Blinx: The Time Sweeper',\n",
       "       'Block Party', 'Blood Drive', 'Blood Wake',\n",
       "       'Bloody Roar: Primal Fury', 'Blue Dragon', 'Blue Stinger', 'Blur',\n",
       "       'Bomberman Tournament', 'Boxing', 'Bridge', 'Brink', 'Brute Force',\n",
       "       'Buzz Lightyear of Star Command', \"Cabela's Adventure Camp\",\n",
       "       \"Cabela's African Safari\", \"Cabela's Alaskan Adventure\",\n",
       "       \"Cabela's Big Game Hunter\", \"Cabela's Big Game Hunter (2008)\",\n",
       "       \"Cabela's Big Game Hunter 2005 Adventures\",\n",
       "       \"Cabela's Big Game Hunter 2010\", \"Cabela's Big Game Hunter 2012\",\n",
       "       \"Cabela's Big Game Hunter: Hunting Party\",\n",
       "       \"Cabela's Big Game Hunter: Pro Hunts\",\n",
       "       \"Cabela's Big Game Hunter: Ultimate Challenge\",\n",
       "       \"Cabela's Dangerous Hunts\", \"Cabela's Dangerous Hunts 2009\",\n",
       "       \"Cabela's Dangerous Hunts 2011\",\n",
       "       \"Cabela's Dangerous Hunts: Ultimate Challenge\",\n",
       "       \"Cabela's Deer Hunt 2005 Season\",\n",
       "       \"Cabela's Deer Hunt: 2004 Season\", \"Cabela's Legendary Adventures\",\n",
       "       \"Cabela's Monster Buck Hunter\",\n",
       "       \"Cabela's North American Adventures\",\n",
       "       \"Cabela's Outdoor Adventures\",\n",
       "       \"Cabela's Outdoor Adventures (2009)\",\n",
       "       \"Cabela's Survival: Shadows of Katmai\", \"Cabela's Trophy Bucks\",\n",
       "       'Call Of Duty 2: Big Red One', 'Call of Duty',\n",
       "       'Call of Duty 4: Modern Warfare',\n",
       "       'Call of Duty Black Ops: Declassified',\n",
       "       'Call of Duty: Advanced Warfare', 'Call of Duty: Black Ops',\n",
       "       'Call of Duty: Finest Hour', 'Call of Duty: Ghosts',\n",
       "       'Call of Duty: Infinite Warfare', 'Call of Duty: Modern Warfare',\n",
       "       'Call of Duty: Modern Warfare 3: Defiance',\n",
       "       'Call of Duty: Modern Warfare Trilogy',\n",
       "       'Call of Duty: Modern Warfare: Mobilized',\n",
       "       'Call of Duty: Modern Warfare: Reflex Edition',\n",
       "       'Call of Duty: Roads to Victory',\n",
       "       'Call of Duty: The War Collection', 'Call of Duty: World at War',\n",
       "       'Call of Duty: World at War Final Fronts',\n",
       "       'Chaotic: Shadow Warriors', 'Chopper Command', 'Civilization',\n",
       "       'Combat Flight Simulator 3: Battle for Europe', 'Commando',\n",
       "       'Conker: Live And Reloaded', 'Counter-Strike', 'Crackdown',\n",
       "       'Crimson Skies: High Road to Revenge', 'Cut the Rope', 'DJ Hero',\n",
       "       'Dance Central', 'Dance Central: Spotlight',\n",
       "       'Dancing With The Stars', 'Dancing with the Stars: We Dance!',\n",
       "       'Dead Rising', 'Dead or Alive',\n",
       "       'Dead or Alive Xtreme Beach Volleyball', 'Deadpool', 'Destiny',\n",
       "       'Destiny: The Collection', 'Destiny: The Taken King', 'Diablo',\n",
       "       'Dishonored', \"Disney's Extreme Skate Adventure\",\n",
       "       \"Disney's Tarzan\", \"Disney's Tarzan: Return to the Jungle\",\n",
       "       \"Disney's The Lion King: Simba's Mighty Adventure\", 'Dolphin',\n",
       "       'Doom', 'Doom (2016)', 'Doom 3 BFG Edition',\n",
       "       'Doom 3: Resurrection of Evil', 'Doom II: Hell on Earth',\n",
       "       'Double Dragon', 'Dragster', 'DreamWorks Super Star Kartz',\n",
       "       'Dreamworks 2-in-1 Party Pack', 'Dreamworks Madagascar Kartz',\n",
       "       'Dungeon Siege', 'Enemy Territory: Quake Wars', 'Exhibition',\n",
       "       'Exhibition Volume', 'Exhibition Volume 02',\n",
       "       'Exhibition Volume 03', 'Fable', 'Fable: The Journey',\n",
       "       'Fable: The Lost Chapters', 'Fallout',\n",
       "       'Fallout 3 Game Add-On Pack: Broken Steel and Point Lookout',\n",
       "       'Fallout 3 Game Add-On Pack: The Pitt and Operation: Anchorage',\n",
       "       'Fallout Anthology', 'Fallout: New Vegas',\n",
       "       'Family Guy: Back to the Multiverse', 'Fantastic',\n",
       "       'Fantastic 4: Flame On', 'Fast & Furious: Showdown',\n",
       "       \"Fatal Frame II: Crimson Butterfly Director's Cut\",\n",
       "       'Fishing Derby', 'Forza Horizon', 'Forza Motorsport',\n",
       "       'Forza Motorsport 3: Ultimate Edition', 'Freelancer', 'Freeway',\n",
       "       'Frostbite', 'Fuzion Frenzy', 'Gears of War',\n",
       "       'Gears of War: Judgment', 'Gears of War: Ultimate Edition',\n",
       "       'Generator Rex: Agent of Providence', 'Ghostbusters',\n",
       "       'Ghostbusters (2016)', 'Gladius', 'GoldenEye 007 (2010)',\n",
       "       'Goldeneye 007: Reloaded', 'Grabbed by the Ghoulies', 'Grand Prix',\n",
       "       \"Greg Hastings' Tournament Paintball\",\n",
       "       \"Greg Hastings' Tournament Paintball Max'd\", \"Guardian's Crusade\",\n",
       "       'Guitar Hero', 'Guitar Hero III: Legends of Rock',\n",
       "       'Guitar Hero Live', 'Guitar Hero On Tour: Modern Hits',\n",
       "       'Guitar Hero: Aerosmith', 'Guitar Hero: Metallica',\n",
       "       'Guitar Hero: On Tour', 'Guitar Hero: On Tour Decades',\n",
       "       'Guitar Hero: Smash Hits', 'Guitar Hero: Van Halen',\n",
       "       'Guitar Hero: Warriors of Rock', 'Guitar Hero: World Tour', 'Gun',\n",
       "       'Gun Showdown', 'GunGriffon: Allied Strike', 'Gungrave', 'Halo',\n",
       "       'Halo 2 Multiplayer Map Pack', 'Halo 3: ODST', 'Halo 5: Guardians',\n",
       "       'Halo Triple Pack', 'Halo Wars', 'Halo: Combat Evolved',\n",
       "       'Halo: Combat Evolved Anniversary', 'Halo: Reach',\n",
       "       'Halo: The Master Chief Collection',\n",
       "       'History Civil War: Secret Missions', 'Hot Wheels Ultimate Racing',\n",
       "       'Hot Wheels: Battle Force', 'Hot Wheels: Beat That!',\n",
       "       'How to Train Your Dragon', \"Hunted: The Demon's Forge\",\n",
       "       'IHRA Drag Racing', 'IHRA Drag Racing 2004',\n",
       "       'IHRA Drag Racing: Sportsman Edition',\n",
       "       'IHRA Professional Drag Racing 2005',\n",
       "       'Ice Age: Dawn of the Dinosaurs', 'Ice Hockey',\n",
       "       'Impossible Creatures', 'Indiana Jones and the Staff of Kings',\n",
       "       'Jackie Chan Adventures: Legend of the Dark Hand', 'Jade Empire',\n",
       "       'James Bond 007: Blood Stone', 'James Bond 007: Legends',\n",
       "       'Jurassic: The Hunted', 'Kaboom!', 'Kakuto Chojin',\n",
       "       'Kameo: Elements of Power', \"Kelly Slater's Pro Surfer\",\n",
       "       'Keystone Kapers', 'Killer Instinct (2013)', 'Kinect Adventures!',\n",
       "       'Kinect Joy Ride', 'Kinect Rush: A Disney Pixar Adventure',\n",
       "       'Kinect Sports', 'Kinect Sports Rivals',\n",
       "       'Kinect Sports: Season Two', 'Kinect Star Wars',\n",
       "       'Kinect: Disneyland Adventures', 'Kinectimals',\n",
       "       'Kinectimals: Now with Bears!',\n",
       "       \"King's Quest: The Complete Collection\",\n",
       "       'Kingdom Under Fire: Circle of Doom', 'Kung Fu Chaos',\n",
       "       'Kung Fu Panda', 'Kung Fu Panda: Legendary Warriors', 'Kung Zhu',\n",
       "       'Kung-Fu Master', 'LEGO Indiana Jones 2: The Adventure Continues',\n",
       "       'LEGO Indiana Jones: The Original Adventures',\n",
       "       'LEGO Star Wars II: The Original Trilogy', 'Lalaloopsy',\n",
       "       'Laser Blast', \"Lemony Snicket's A Series of Unfortunate Events\",\n",
       "       'Links 2004', 'Lips', 'Lips: Deutsche Partyknaller',\n",
       "       'Lips: I Love The 80s', 'Lips: Number One Hits',\n",
       "       'Lips: Party Classics', 'Little League World Series Baseball 2008',\n",
       "       'Little League World Series Baseball 2009',\n",
       "       'Little League World Series Baseball 2010',\n",
       "       'Little League World Series Baseball: Double Play',\n",
       "       'Lost Kingdoms', 'Lost Odyssey', 'MLB Inside Pitch 2003',\n",
       "       'MTX Mototrax', 'Madagascar', 'Madagascar: Escape 2 Africa',\n",
       "       'Madagascar: Operation Penguin', 'Magical Tetris Challenge',\n",
       "       'Magical ZhuZhu Princess: Carriages & Castles',\n",
       "       'Major League Baseball 2K8', 'Marvel: Ultimate Alliance',\n",
       "       'Mass Effect', \"Mat Hoffman's Pro BMX\", 'Maximum Chase',\n",
       "       'MechAssault', 'MechAssault 2: Lone Wolf',\n",
       "       'MechWarrior 2: 31st Century Combat', 'Megamania',\n",
       "       'Miami Vice: The Game', 'Microsoft Flight Simulator',\n",
       "       'Microsoft Flight Simulator 2004: A Century of Flight',\n",
       "       'Microsoft Flight Simulator X',\n",
       "       'Microsoft Flight Simulator X Acceleration Expansion Pack',\n",
       "       'Microsoft Train Simulator', 'Midtown Madness', 'Minecraft',\n",
       "       'Minecraft: Story Mode', 'Minority Report: Everybody Runs',\n",
       "       'Monkey Island: Special Edition Collection',\n",
       "       'Monkey Mischief! Party Time', 'Monster Garage', 'Monster Jam',\n",
       "       'Monster Jam: Path of Destruction', 'Monster Jam: Urban Assault',\n",
       "       'Monsters vs. Aliens', 'Moshi Monsters: Katsuma Unleashed',\n",
       "       'Moshi Monsters: Moshling Zoo',\n",
       "       'Moshi Monsters: Moshlings Theme Park', 'Mountain Sports',\n",
       "       'N3 II: Ninety-Nine Nights', 'N3: Ninety-Nine Nights',\n",
       "       'NASCAR 2011: The Game', 'NASCAR The Game: Inside Line',\n",
       "       'NASCAR Unleashed', 'NBA Inside Drive 2002',\n",
       "       'NBA Inside Drive 2003', 'NBA Inside Drive 2004', 'NFL Fever 2002',\n",
       "       'NFL Fever 2003', 'NFL Fever 2004', 'NHL Rivals 2004',\n",
       "       'NPPL: Championship Paintball 2009',\n",
       "       \"NTRA Breeders' Cup World Thoroughbred Championships\",\n",
       "       'NightCaster', 'Nightmare Creatures', 'Nike+ Kinect Training',\n",
       "       'Ninja Blade', 'Ninja Gaiden', 'Ninja Gaiden Black',\n",
       "       'Orphen: Scion of Sorcery', 'Over the Hedge',\n",
       "       'Over the Hedge: Hammy Goes Nuts!', 'Overwatch',\n",
       "       'PGR3 - Project Gotham Racing', 'PGR4 - Project Gotham Racing',\n",
       "       'PGR: Project Gotham Racing',\n",
       "       'Percy Jackson and the Olympians: The Lightning Thief',\n",
       "       'Perfect Dark Zero', 'Phantom Dust', 'Pimp My Ride',\n",
       "       'Pimp My Ride: Street Racing',\n",
       "       \"Pirates: Hunt For Blackbeard's Booty\",\n",
       "       'Pitfall 3D: Beyond the Jungle', 'Pitfall II: Lost Caverns',\n",
       "       'Pitfall!', 'Pitfall: The Big Adventure',\n",
       "       'Pitfall: The Lost Expedition', 'Pressure Cooker',\n",
       "       'Project Gotham Racing', 'Project Gotham Racing (JP weekly sales)',\n",
       "       'Project Gotham Racing 2 (JP weekly sales)', 'Project Spark',\n",
       "       'Project Sylpheed: Arc of Deception',\n",
       "       'Prototype: Biohazard Bundle', 'Puppy Luv: Spa and Resort',\n",
       "       'Quake', 'Quantum Break', 'Quantum Redshift', 'Rage',\n",
       "       'RalliSport Challenge', 'RalliSport Challenge(JP sales)',\n",
       "       'Rally Fusion: Race of Champions', 'Rampage',\n",
       "       'Rapala Fishing Frenzy 2009', 'Rapala Pro Bass Fishing 2010',\n",
       "       'Rapala Tournament Fishing!', 'Rapala Trophies',\n",
       "       'Rapala for Kinect', \"Rapala's Fishing Frenzy\", 'Rapala: We Fish',\n",
       "       'Rare Replay', 'ReCore',\n",
       "       'Return to Castle Wolfenstein: Operation Resurrection',\n",
       "       'Return to Castle Wolfenstein: Tides of War', 'Rise of Nations',\n",
       "       'Rise of Nations: Rise of Legends', 'River Raid',\n",
       "       \"Rock 'N Roll Racing\", 'Rogue Warrior', 'Rome: Total War',\n",
       "       'Ryse: Son of Rome',\n",
       "       'SCORE International Baja 1000: The Official Game',\n",
       "       'Scene It? Box Office Smash', 'Scene It? Lights Camera Action',\n",
       "       'Science Papa',\n",
       "       \"SeaWorld Adventure Parks: Shamu's Deep Sea Adventure\",\n",
       "       'Secret Service', 'Secret Service: Ultimate Sacrifice',\n",
       "       'Shadowrun', 'Shanghai: True Valor', 'Shark Tale',\n",
       "       \"Shaun Palmer's Pro Snowboarder\", 'Shenmue', 'Shrek',\n",
       "       'Shrek 2 and Shark Tale 2-in-1 Pack', 'Shrek 2: Beg for Mercy',\n",
       "       \"Shrek Smash n' Crash Racing\", 'Shrek SuperSlam',\n",
       "       'Shrek the Third', \"Shrek's Carnival Craze Party Games\",\n",
       "       'Shrek: Forever After', 'Shrek: Ogres & Dronkeys',\n",
       "       'Skylanders Giants', 'Skylanders Imaginators',\n",
       "       'Skylanders SWAP Force', \"Skylanders: Spyro's Adventure\",\n",
       "       'Skylanders: SuperChargers', 'Skylanders: Trap Team', 'Sneakers',\n",
       "       'Soldier of Fortune II: Double Helix',\n",
       "       'Soldier of Fortune: Payback', 'Space Camp', 'Space Invaders',\n",
       "       'Spanish for Everyone!', 'Speed Zone', 'Spider-Man',\n",
       "       'Spider-Man 2: Enter: Electro', 'Spider-Man: Battle for New York',\n",
       "       'Spider-Man: Edge of Time', 'Spider-Man: Friend or Foe',\n",
       "       \"Spider-Man: Mysterio's Menace\",\n",
       "       'Spider-Man: Shattered Dimensions', 'Spider-Man: The Movie',\n",
       "       'Spider-Man: Web of Shadows',\n",
       "       'Spider-Man: Web of Shadows - Amazing Allies Edition',\n",
       "       \"SpongeBob SquarePants: Plankton's Robotic Revenge\",\n",
       "       'SpongeBob: HeroPants', 'Squinkies',\n",
       "       'Squinkies 2: Adventure Mall Surprize!', 'Star Trek: Conquest',\n",
       "       'Star Trek: Invasion',\n",
       "       'Star Wars Episode III: Revenge of the Sith',\n",
       "       'Star Wars Jedi Knight II: Jedi Outcast',\n",
       "       'Star Wars Jedi Knight: Jedi Academy',\n",
       "       'Star Wars Knights of the Old Republic II: The Sith Lords',\n",
       "       'Star Wars: Battlefront', 'Star Wars: Clone Wars',\n",
       "       'Star Wars: Demolition', 'Star Wars: Jedi Starfighter',\n",
       "       'Star Wars: Knights of the Old Republic', 'Star Wars: Obi-Wan',\n",
       "       'Star Wars: Republic Commando', 'Star Wars: Starfighter',\n",
       "       'Star Wars: The Clone Wars & Tetris Worlds', 'StarCraft',\n",
       "       'StarCraft II: Heart of the Swarm',\n",
       "       'StarCraft II: Legacy of the Void',\n",
       "       'StarCraft II: Wings of Liberty', 'State of Decay',\n",
       "       'Steel Battalion', 'Street Hoops', 'Stuart Little', 'Sudeki',\n",
       "       'Sunset Overdrive', 'Supercar Street Challenge',\n",
       "       \"T'ai Fu: Wrath of the Tiger\", 'Tao Feng: Fist of the Lotus',\n",
       "       'Tecmo Classic Arcade', 'Teenage Mutant Ninja Turtles (3DS)',\n",
       "       'Teenage Mutant Ninja Turtles: Danger of the Ooze',\n",
       "       'Teenage Mutant Ninja Turtles: Mutants in Manhattan',\n",
       "       'Tenchu 2: Birth of the Stealth Assassins', 'Tenchu Z',\n",
       "       'Tenchu: Return From Darkness', 'Tenchu: Stealth Assassins',\n",
       "       'Tenchu: Wrath of Heaven', 'The Activision Decathlon',\n",
       "       'The Amazing Spider-Man (Console Version)',\n",
       "       'The Amazing Spider-Man 2 (2014)', 'The Elder Scrolls Online',\n",
       "       'The Elder Scrolls V: Skyrim', 'The Evil Within',\n",
       "       'The Gunstringer', 'The History Channel: Battle for the Pacific',\n",
       "       'The History Channel: Civil War - A Nation Divided',\n",
       "       'The History Channel: Civil War - Secret Missions',\n",
       "       'The Hustle: Detroit Streets', 'The Invincible Iron Man',\n",
       "       'The Legend of Korra (3DS)', 'The Lost Vikings', 'The Movies',\n",
       "       \"The Peanuts Movie: Snoopy's Grand Adventure\", 'The Voice',\n",
       "       'The Walking Dead: Survival Instinct', 'The Weakest Link',\n",
       "       \"Tony Hawk's American Sk8land\", \"Tony Hawk's American Wasteland\",\n",
       "       \"Tony Hawk's American Wasteland (Old all region sales)\",\n",
       "       \"Tony Hawk's American Wasteland (Weekly american sales)\",\n",
       "       \"Tony Hawk's Downhill Jam\", \"Tony Hawk's Motion\",\n",
       "       \"Tony Hawk's Pro Skater\", \"Tony Hawk's Pro Skater 2x\",\n",
       "       \"Tony Hawk's Project\", \"Tony Hawk's Proving Ground\",\n",
       "       \"Tony Hawk's Underground\", \"Tony Hawk's Underground 2 Remix\",\n",
       "       'Tony Hawk: RIDE', 'Tony Hawk: Shred', 'Too Human',\n",
       "       'Top Shot Arcade', 'Top Spin', 'Tork: Prehistoric Punk',\n",
       "       'Toy Story 2: Buzz Lightyear to the Rescue!', 'Toy Story Racer',\n",
       "       'TransFormers Animated: The Game',\n",
       "       'Transformer: Rise of the Dark Spark',\n",
       "       'Transformer: Rise of the Dark Spark (3DS)',\n",
       "       'Transformers: Autobots / Decepticons',\n",
       "       'Transformers: Cybertron Adventures',\n",
       "       'Transformers: Dark of the Moon',\n",
       "       'Transformers: Dark of the Moon - Autobots/Decepticons',\n",
       "       'Transformers: Devastation', 'Transformers: Fall of Cybertron',\n",
       "       'Transformers: Prime',\n",
       "       'Transformers: Revenge of the Fallen (DS Versions)',\n",
       "       'Transformers: Revenge of the Fallen (Wii & PS2 Version)',\n",
       "       'Transformers: Revenge of the Fallen (XBox 360, PS3, & PC Versions)',\n",
       "       'Transformers: The Game (XBox 360, PS2, PS3, Wii & PC Versions)',\n",
       "       'Transformers: War for Cybertron (DS Version)',\n",
       "       'Transformers: War for Cybertron (XBox 360, PS3, & PC Versions)',\n",
       "       'Transformers: War for Cybertron -- Decepticons',\n",
       "       'Triple Pack: Xbox Live Arcade Compilation',\n",
       "       'True Crime: New York City', 'True Crime: Streets of LA',\n",
       "       'Ty the Tasmanian Tiger 3: Night of the Quinkan',\n",
       "       'Ultimate Spider-Man', 'Untold Legends: Brotherhood of the Blade',\n",
       "       'Vampire Rain', 'Van Helsing', 'Vigilante',\n",
       "       'Vigilante 8: 2nd Offense', 'Viva Pinata',\n",
       "       'Viva Pinata: Party Animals', 'Viva Pinata: Trouble in Paradise',\n",
       "       'Voodoo Vince', 'Wakeboarding Unleashed Featuring Shaun Murray',\n",
       "       'Wappy Dog', 'Warcraft II: Tides of Darkness',\n",
       "       'Warcraft III: The Frozen Throne', 'Warcraft: Orcs & Humans',\n",
       "       'Wasteland', 'Wet', 'Whacked!', 'WipeOut 3 The Game', 'Wipeout',\n",
       "       'Wipeout: In The Zone', 'Wipeout: The Game', 'Wolfenstein',\n",
       "       'Wolfenstein: The New Order', 'Wolfenstein: The Old Blood',\n",
       "       'World Series of Poker',\n",
       "       'World Series of Poker 2008: Battle for the Bracelets',\n",
       "       'World Series of Poker: Tournament of Champions 2007 Edition',\n",
       "       'World of Warcraft', 'World of Warcraft: Cataclysm',\n",
       "       'World of Warcraft: Legion',\n",
       "       'World of Warcraft: Mists of Pandaria',\n",
       "       'World of Warcraft: The Burning Crusade',\n",
       "       'World of Warcraft: Warlords of Draenor',\n",
       "       'World of Warcraft: Wrath of the Lich King',\n",
       "       \"World's Scariest Police Chases\", 'Worms',\n",
       "       'Wreckless: ThE YaKuza MisSiOns', 'Wu-Tang: Shaolin Style',\n",
       "       'X-Men Legends', 'X-Men Legends II: Rise of Apocalypse',\n",
       "       'X-Men Origins: Wolverine',\n",
       "       'X-Men Origins: Wolverine - Uncaged Edition', 'X-Men: Destiny',\n",
       "       'X-Men: Mutant Academy', 'X-Men: Next Dimension',\n",
       "       'X-Men: Reign of Apocalypse', 'X-Men: The Official Game',\n",
       "       \"X2: Wolverine's Revenge\", 'XXX',\n",
       "       'Xbox Live Arcade Unplugged Volume 1', 'Xbox Music Mixer',\n",
       "       \"You're in the Movies\", 'ZhuZhu Babies', 'ZhuZhu Pets',\n",
       "       'ZhuZhu Pets 2: Featuring The Wild Bunch',\n",
       "       'ZhuZhu Pets: Featuring The Wild Bunch',\n",
       "       'ZhuZhu Pets: Quest for Zhu', 'ZhuZhu Puppies', 'Zoo Tycoon',\n",
       "       'Zoo Tycoon (2013)', 'Zoo Tycoon 2: Ultimate Collection',\n",
       "       'Zoo Tycoon: Complete Collection', 'Zoobles! Spring to Life!',\n",
       "       '[Prototype 2]', '[Prototype]', 'iCarly',\n",
       "       'iCarly 2: iJoin The Click!'], dtype=object)"
      ]
     },
     "execution_count": 88,
     "metadata": {},
     "output_type": "execute_result"
    }
   ],
   "source": [
    "Total_Microsoft_Df.groupby('Name').sum().reset_index()['Name'].unique()"
   ]
  },
  {
   "cell_type": "markdown",
   "metadata": {},
   "source": [
    "# Global Sales Vizualizations"
   ]
  },
  {
   "cell_type": "code",
   "execution_count": 94,
   "metadata": {},
   "outputs": [
    {
     "data": {
      "image/png": "[encoded data removed]",
      "text/plain": [
       "<Figure size 1080x720 with 1 Axes>"
      ]
     },
     "metadata": {
      "needs_background": "light"
     },
     "output_type": "display_data"
    }
   ],
   "source": [
    "fig, ax = plt.subplots(figsize = (15,10))\n",
    "\n",
    "ax.invert_yaxis()\n",
    "\n",
    "ax.barh(y=Top_10_GS['Name'],\n",
    "       width=Top_10_GS['Global_Sales'],\n",
    "       color='purple')\n",
    "ax.set_title(\"\"\"Global Sales as of 2016 by IP currently owned by Microsoft\"\"\")\n",
    "ax.set_xlabel(\"Sales in millions of units\")\n",
    "ax.set_ylabel(\"Game Name\")\n",
    "fig.savefig('../../images/Microsoft_Gaming_Global_Sales.jpg',\n",
    "            transparent = False,bbox_inches=\"tight\");"
   ]
  },
  {
   "cell_type": "markdown",
   "metadata": {},
   "source": [
    "# NA Sales Vizualizations"
   ]
  },
  {
   "cell_type": "code",
   "execution_count": 95,
   "metadata": {},
   "outputs": [
    {
     "data": {
      "image/png": "[encoded data removed]",
      "text/plain": [
       "<Figure size 1080x720 with 1 Axes>"
      ]
     },
     "metadata": {
      "needs_background": "light"
     },
     "output_type": "display_data"
    }
   ],
   "source": [
    "fig, ax = plt.subplots(figsize = (15,10))\n",
    "\n",
    "ax.invert_yaxis()\n",
    "\n",
    "ax.barh(y=Top_10_NAS['Name'],\n",
    "       width=Top_10_NAS['NA_Sales'],\n",
    "       color='purple')\n",
    "ax.set_title(\"\"\"NA Sales as of 2016 by IP currently owned by Microsoft\"\"\")\n",
    "ax.set_xlabel(\"Sales in millions of units\")\n",
    "ax.set_ylabel(\"Game Name\");"
   ]
  },
  {
   "cell_type": "markdown",
   "metadata": {},
   "source": [
    "# EU Sales Vizualizations"
   ]
  },
  {
   "cell_type": "code",
   "execution_count": 96,
   "metadata": {},
   "outputs": [
    {
     "data": {
      "image/png": "[encoded data removed]",
      "text/plain": [
       "<Figure size 1080x720 with 1 Axes>"
      ]
     },
     "metadata": {
      "needs_background": "light"
     },
     "output_type": "display_data"
    }
   ],
   "source": [
    "fig, ax = plt.subplots(figsize = (15,10))\n",
    "\n",
    "ax.invert_yaxis()\n",
    "\n",
    "ax.barh(y=Top_10_EUS['Name'],\n",
    "       width=Top_10_EUS['EU_Sales'],\n",
    "       color='purple')\n",
    "ax.set_title(\"\"\"EU Sales as of 2016 by IP currently owned by Microsoft\"\"\")\n",
    "ax.set_xlabel(\"Sales in millions of units\")\n",
    "ax.set_ylabel(\"Game Name\");"
   ]
  },
  {
   "cell_type": "markdown",
   "metadata": {},
   "source": [
    "# JP Sales Vizualizations "
   ]
  },
  {
   "cell_type": "code",
   "execution_count": 97,
   "metadata": {
    "scrolled": false
   },
   "outputs": [
    {
     "data": {
      "image/png": "[encoded data removed]",
      "text/plain": [
       "<Figure size 1080x720 with 1 Axes>"
      ]
     },
     "metadata": {
      "needs_background": "light"
     },
     "output_type": "display_data"
    }
   ],
   "source": [
    "fig, ax = plt.subplots(figsize = (15,10))\n",
    "\n",
    "ax.invert_yaxis()\n",
    "\n",
    "ax.barh(y=Top_10_JPS['Name'],\n",
    "       width=Top_10_JPS['JP_Sales'],\n",
    "       color='purple')\n",
    "ax.set_title(\"\"\"JP Sales as of 2016 by IP currently owned by Microsoft\"\"\")\n",
    "ax.set_xlabel(\"Sales in millions of units\")\n",
    "ax.set_ylabel(\"Game Name\");"
   ]
  },
  {
   "cell_type": "code",
   "execution_count": null,
   "metadata": {},
   "outputs": [],
   "source": []
  }
 ],
 "metadata": {
  "kernelspec": {
   "display_name": "Python (learn-env)",
   "language": "python",
   "name": "learn-env"
  },
  "language_info": {
   "codemirror_mode": {
    "name": "ipython",
    "version": 3
   },
   "file_extension": ".py",
   "mimetype": "text/x-python",
   "name": "python",
   "nbconvert_exporter": "python",
   "pygments_lexer": "ipython3",
   "version": "3.8.5"
  }
 },
 "nbformat": 4,
 "nbformat_minor": 4
}
